{
 "cells": [
  {
   "cell_type": "markdown",
   "metadata": {},
   "source": [
    "# Recurrent Neural Networks\n",
    "\n",
    "## Introduction\n",
    "\n",
    "Take a look at [this great article]\n",
    "(http://colah.github.io/posts/2015-08-Understanding-LSTMs/)\n",
    "for an introduction to recurrent neural networks and LSTMs in particular.\n",
    "\n",
    "## Language Modeling\n",
    "\n",
    "In this tutorial we will show how to train a recurrent neural network on\n",
    "a challenging task of language modeling. The goal of the problem is to fit a\n",
    "probabilistic model which assigns probablities to sentences. It does so by\n",
    "predicting next words in a text given a history of previous words. For this\n",
    "purpose we will use the Penn Tree Bank (PTB) dataset, which is a popular\n",
    "benchmark for measuring quality of these models, whilst being small and\n",
    "relatively fast to train.\n",
    "\n",
    "Language modeling is key to many interesting problems such as speech\n",
    "recognition, machine translation, or image captioning. It is also fun, too --\n",
    "take a look [here] (http://karpathy.github.io/2015/05/21/rnn-effectiveness/).\n",
    "\n",
    "For the purpose of this tutorial, we will reproduce the results from\n",
    "[Zaremba et al., 2014] (http://arxiv.org/abs/1409.2329), which achieves very\n",
    "good results on the PTB dataset.\n",
    "\n",
    "## Tutorial Files\n",
    "\n",
    "This tutorial references the following files from `models/rnn/ptb`:\n",
    "\n",
    "File | Purpose\n",
    "--- | ---\n",
    "`ptb_word_lm.py` | The code to train a language model on the PTB dataset.\n",
    "`reader.py` | The code to read the dataset.\n",
    "\n",
    "## Download and Prepare the Data\n",
    "\n",
    "The data required for this tutorial is in the data/ directory of the\n",
    "PTB dataset from Tomas Mikolov's webpage:\n",
    "http://www.fit.vutbr.cz/~imikolov/rnnlm/simple-examples.tgz\n",
    "\n",
    "The dataset is already preprocessed and contains overall 10000 different words,\n",
    "including the end-of-sentence marker and a special symbol (\\<unk\\>) for rare\n",
    "words. We convert all of them in the `reader.py` to unique integer identifiers\n",
    "to make it easy for the neural network to process.\n",
    "\n",
    "## The Model\n",
    "\n",
    "### LSTM\n",
    "\n",
    "The core of the model consists of an LSTM cell that processes one word at the\n",
    "time and computes probabilities of the possible continuations of the sentence.\n",
    "The memory state of the network is initialized with a vector of zeros and gets\n",
    "updated after reading each word. Also, for computational reasons, we will\n",
    "process data in mini-batches of size `batch_size`.\n",
    "\n",
    "The basic pseudocode looks as follows:"
   ]
  },
  {
   "cell_type": "code",
   "execution_count": null,
   "metadata": {},
   "outputs": [],
   "source": [
    "lstm = rnn_cell.BasicLSTMCell(lstm_size)\n",
    "# Initial state of the LSTM memory.\n",
    "state = tf.zeros([batch_size, lstm.state_size])\n",
    "\n",
    "loss = 0.0\n",
    "for current_batch_of_words in words_in_dataset:\n",
    "    # The value of state is updated after processing each batch of words.\n",
    "    output, state = lstm(current_batch_of_words, state)\n",
    "\n",
    "    # The LSTM output can be used to make next word predictions\n",
    "    logits = tf.matmul(output, softmax_w) + softmax_b\n",
    "    probabilities = tf.nn.softmax(logits)\n",
    "    loss += loss_function(probabilities, target_words)"
   ]
  },
  {
   "cell_type": "markdown",
   "metadata": {},
   "source": [
    "### Truncated Backpropagation\n",
    "\n",
    "In order to make the learning process tractable, it is a common practice to\n",
    "truncate the gradients for backpropagation to a fixed number (`num_steps`)\n",
    "of unrolled steps.\n",
    "This is easy to implement by feeding inputs of length `num_steps` at a time and\n",
    "doing backward pass after each iteration.\n",
    "\n",
    "A simplifed version of the code for the graph creation for truncated\n",
    "backpropagation:"
   ]
  },
  {
   "cell_type": "code",
   "execution_count": null,
   "metadata": {},
   "outputs": [],
   "source": [
    "# Placeholder for the inputs in a given iteration.\n",
    "words = tf.placeholder(tf.int32, [batch_size, num_steps])\n",
    "\n",
    "lstm = rnn_cell.BasicLSTMCell(lstm_size)\n",
    "# Initial state of the LSTM memory.\n",
    "initial_state = state = tf.zeros([batch_size, lstm.state_size])\n",
    "\n",
    "for i in range(len(num_steps)):\n",
    "    # The value of state is updated after processing each batch of words.\n",
    "    output, state = lstm(words[:, i], state)\n",
    "\n",
    "    # The rest of the code.\n",
    "    # ...\n",
    "\n",
    "final_state = state"
   ]
  },
  {
   "cell_type": "markdown",
   "metadata": {},
   "source": [
    "And this is how to implement an iteration over the whole dataset:"
   ]
  },
  {
   "cell_type": "code",
   "execution_count": null,
   "metadata": {},
   "outputs": [],
   "source": [
    "# A numpy array holding the state of LSTM after each batch of words.\n",
    "numpy_state = initial_state.eval()\n",
    "total_loss = 0.0\n",
    "for current_batch_of_words in words_in_dataset:\n",
    "    numpy_state, current_loss = session.run([final_state, loss],\n",
    "        # Initialize the LSTM state from the previous iteration.\n",
    "        feed_dict={initial_state: numpy_state, words: current_batch_of_words})\n",
    "    total_loss += current_loss"
   ]
  },
  {
   "cell_type": "markdown",
   "metadata": {},
   "source": [
    "### Inputs\n",
    "\n",
    "The word IDs will be embedded into a dense representation (see the\n",
    "[Vector Representations Tutorial](../../tutorials/word2vec/index.ipynb)) before feeding to\n",
    "the LSTM. This allows the model to efficiently represent the knowledge about\n",
    "particular words. It is also easy to write:"
   ]
  },
  {
   "cell_type": "code",
   "execution_count": null,
   "metadata": {},
   "outputs": [],
   "source": [
    "# embedding_matrix is a tensor of shape [vocabulary_size, embedding size]\n",
    "word_embeddings = tf.nn.embedding_lookup(embedding_matrix, word_ids)"
   ]
  },
  {
   "cell_type": "markdown",
   "metadata": {},
   "source": [
    "The embedding matrix will be initialized randomly and the model will learn to\n",
    "differentiate the meaning of words just by looking at the data.\n",
    "\n",
    "### Loss Fuction\n",
    "\n",
    "We want to minimize the average negative log probability of the target words:\n",
    "\n",
    "$$ \\text{loss} = -\\frac{1}{N}\\sum_{i=1}^{N} \\ln p_{\\text{target}_i} $$\n",
    "\n",
    "It is not very difficult to implement but the function\n",
    "`sequence_loss_by_example` is already available, so we can just use it here.\n",
    "\n",
    "The typical measure reported in the papers is average per-word perplexity (often\n",
    "just called perplexity), which is equal to\n",
    "\n",
    "$$e^{-\\frac{1}{N}\\sum_{i=1}^{N} \\ln p_{\\text{target}_i}} = e^{\\text{loss}} $$\n",
    "\n",
    "and we will monitor its value throughout the training process.\n",
    "\n",
    "### Stacking multiple LSTMs\n",
    "\n",
    "To give the model more expressive power, we can add multiple layers of LSTMs\n",
    "to process the data. The output of the first layer will become the input of\n",
    "the second and so on.\n",
    "\n",
    "We have a class called `MultiRNNCell` that makes the implementation seamless:"
   ]
  },
  {
   "cell_type": "code",
   "execution_count": null,
   "metadata": {},
   "outputs": [],
   "source": [
    "lstm = rnn_cell.BasicLSTMCell(lstm_size)\n",
    "stacked_lstm = rnn_cell.MultiRNNCell([lstm] * number_of_layers)\n",
    "\n",
    "initial_state = state = stacked_lstm.zero_state(batch_size, tf.float32)\n",
    "for i in range(len(num_steps)):\n",
    "    # The value of state is updated after processing each batch of words.\n",
    "    output, state = stacked_lstm(words[:, i], state)\n",
    "\n",
    "    # The rest of the code.\n",
    "    # ...\n",
    "\n",
    "final_state = state"
   ]
  },
  {
   "cell_type": "markdown",
   "metadata": {},
   "source": [
    "## Run the Code\n",
    "\n",
    "We are assuming you have already installed via the pip package, have cloned the\n",
    "tensorflow git repository, and are in the root of the git tree. (If building\n",
    "from source, build the `tensorflow/models/rnn/ptb:ptb_word_lm` target using\n",
    "bazel).\n",
    "\n",
    "Next:"
   ]
  },
  {
   "cell_type": "code",
   "execution_count": null,
   "metadata": {},
   "outputs": [],
   "source": [
    "cd tensorflow/models/rnn/ptb\n",
    "python ptb_word_lm --data_path=/tmp/simple-examples/data/ --model small"
   ]
  },
  {
   "cell_type": "markdown",
   "metadata": {},
   "source": [
    "There are 3 supported model configurations in the tutorial code: \"small\",\n",
    "\"medium\" and \"large\". The difference between them is in size of the LSTMs and\n",
    "the set of hyperparameters used for training.\n",
    "\n",
    "The larger the model, the better results it should get. The `small` model should\n",
    "be able to reach perplexity below 120 on the test set and the `large` one below\n",
    "80, though it might take several hours to train.\n",
    "\n",
    "## What Next?\n",
    "\n",
    "There are several tricks that we haven't mentioned that make the model better,\n",
    "including:\n",
    "\n",
    "* decreasing learning rate schedule,\n",
    "* dropout between the LSTM layers.\n",
    "\n",
    "Study the code and modify it to improve the model even further."
   ]
  }
 ],
 "metadata": {},
 "nbformat": 4,
 "nbformat_minor": 0
}
