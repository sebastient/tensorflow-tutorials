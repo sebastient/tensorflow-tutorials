{
 "cells": [
  {
   "cell_type": "markdown",
   "metadata": {},
   "source": [
    "# Sequence-to-Sequence Models\n",
    "\n",
    "Recurrent neural networks can learn to model language, as already discussed\n",
    "in the [RNN Tutorial](../../tutorials/recurrent/index.ipynb)\n",
    "(if you did not read it, please go through it before proceeding with this one).\n",
    "This raises an interesting question: could we condition the generated words on\n",
    "some input and generate a meaningful response? For example, could we train\n",
    "a neural network to translate from English to French? It turns out that\n",
    "the answer is *yes*.\n",
    "\n",
    "This tutorial will show you how to build and train such a system end-to-end.\n",
    "We are assuming you have already installed via the pip package, have cloned the\n",
    "tensorflow git repository, and are in the root of the git tree.\n",
    "\n",
    "You can then start by running the translate program:"
   ]
  },
  {
   "cell_type": "code",
   "execution_count": null,
   "metadata": {},
   "outputs": [],
   "source": [
    "cd tensorflow/models/rnn/translate\n",
    "python translate.py --data_dir [your_data_directory]"
   ]
  },
  {
   "cell_type": "markdown",
   "metadata": {},
   "source": [
    "It will download English-to-French translation data from the\n",
    "[WMT'15 Website](http://www.statmt.org/wmt15/translation-task.html)\n",
    "prepare it for training and train. It takes about 20GB of disk space,\n",
    "and a while to download and prepare (see [later](#run_it) for details),\n",
    "so you can start and leave it running while reading this tutorial.\n",
    "\n",
    "This tutorial references the following files from `models/rnn`.\n",
    "\n",
    "File | What's in it?\n",
    "--- | ---\n",
    "`seq2seq.py` | Library for building sequence-to-sequence models.\n",
    "`translate/seq2seq_model.py` | Neural translation sequence-to-sequence model.\n",
    "`translate/data_utils.py` | Helper functions for preparing translation data.\n",
    "`translate/translate.py` | Binary that trains and runs the translation model.\n",
    "\n",
    "\n",
    "## Sequence-to-Sequence Basics\n",
    "\n",
    "A basic sequence-to-sequence model, as introduced in\n",
    "[Cho et al., 2014](http://arxiv.org/pdf/1406.1078v3.pdf),\n",
    "consists of two recurrent neural networks (RNNs): an *encoder* that\n",
    "processes the input and a *decoder* that generates the output.\n",
    "This basic architecture is depicted below.\n",
    "\n",
    "<div style=\"width:80%; margin:auto; margin-bottom:10px; margin-top:20px;\">\n",
    "<img style=\"width:100%\" src=\"../../images/basic_seq2seq.png\" />\n",
    "</div>\n",
    "\n",
    "Each box in the picture above represents a cell of the RNN, most commonly\n",
    "a GRU cell or an LSTM cell (see the [RNN Tutorial](../../tutorials/recurrent/index.ipynb)\n",
    "for an explanation of those). Encoder and decoder can share weights or,\n",
    "as is more common, use a different set of parameters. Mutli-layer cells\n",
    "have been successfully used in sequence-to-sequence models too, e.g. for\n",
    "translation [Sutskever et al., 2014](http://arxiv.org/abs/1409.3215).\n",
    "\n",
    "In the basic model depicted above, every input has to be encoded into\n",
    "a fixed-size state vector, as that is the only thing passed to the decoder.\n",
    "To allow the decoder more direct access to the input, an *attention* mechanism\n",
    "was introduced in [Bahdanu et al., 2014](http://arxiv.org/abs/1409.0473).\n",
    "We will not go into the details of the attention mechanism (see the paper),\n",
    "suffice it to say that it allows the decoder to peek into the input at every\n",
    "decoding step. A multi-layer sequence-to-sequence network with LSTM cells and\n",
    "attention mechanism in the decoder looks like this.\n",
    "\n",
    "<div style=\"width:80%; margin:auto; margin-bottom:10px; margin-top:20px;\">\n",
    "<img style=\"width:100%\" src=\"../../images/attention_seq2seq.png\" />\n",
    "</div>\n",
    "\n",
    "## TensorFlow seq2seq Library\n",
    "\n",
    "As you can see above, there are many different sequence-to-sequence\n",
    "models. Each of these models can use different RNN cells, but all\n",
    "of them accept encoder inputs and decoder inputs. This motivates\n",
    "the interfaces in the TensorFlow seq2seq library (`models/rnn/seq2seq.py`).\n",
    "The basic RNN encoder-decoder sequence-to-sequence model works as follows."
   ]
  },
  {
   "cell_type": "code",
   "execution_count": null,
   "metadata": {},
   "outputs": [],
   "source": [
    "outputs, states = basic_rnn_seq2seq(encoder_inputs, decoder_inputs, cell)"
   ]
  },
  {
   "cell_type": "markdown",
   "metadata": {},
   "source": [
    "In the above call, `encoder_inputs` are a list of tensors representing inputs\n",
    "to the encoder, i.e., corresponding to the letters *A, B, C* in the first\n",
    "picture above. Similarly, `decoder_inputs` are tensors representing inputs\n",
    "to the decoder, *GO, W, X, Y, Z* on the first picture.\n",
    "\n",
    "The `cell` argument is an instance of the `models.rnn.rnn_cell.RNNCell` class\n",
    "that determines which cell will be used inside the model. You can use\n",
    "an existing cell, such as `GRUCell` or `LSTMCell`, or you can write your own.\n",
    "Moreover, `rnn_cell` provides wrappers to construct multi-layer cells,\n",
    "add dropout to cell inputs or outputs, or to do other transformations,\n",
    "see the [RNN Tutorial](../../tutorials/recurrent/index.ipynb) for examples.\n",
    "\n",
    "The call to `basic_rnn_seq2seq` returns two arguments: `outputs` and `states`.\n",
    "Both of them are lists of tensors of the same length as `decoder_inputs`.\n",
    "Naturally, `outputs` correspond to the outputs of the decoder in each time-step,\n",
    "in the first picture above that would be *W, X, Y, Z, EOS*. The returned\n",
    "`states` represent the internal state of the decoder at every time-step.\n",
    "\n",
    "In many applications of sequence-to-sequence models, the output of the decoder\n",
    "at time t is fed back and becomes the input of the decoder at time t+1. At test\n",
    "time, when decoding a sequence, this is how the sequence is constructed.\n",
    "During training, on the other hand, it is common to provide the correct input\n",
    "to the decoder at every time-step, even if the decoder made a mistake before.\n",
    "Functions in `seq2seq.py` support both modes using the `feed_previous` argument.\n",
    "For example, let's analyze the following use of an embedding RNN model."
   ]
  },
  {
   "cell_type": "code",
   "execution_count": null,
   "metadata": {},
   "outputs": [],
   "source": [
    "outputs, states = embedding_rnn_seq2seq(\n",
    "    encoder_inputs, decoder_inputs, cell,\n",
    "    num_encoder_symbols, num_decoder_symbols,\n",
    "    output_projection=None, feed_previous=False)"
   ]
  },
  {
   "cell_type": "markdown",
   "metadata": {},
   "source": [
    "In the `embedding_rnn_seq2seq` model, all inputs (both `encoder_inputs` and\n",
    "`decoder_inputs`) are integer-tensors that represent discrete values.\n",
    "They will be embedded into a dense representation (see the\n",
    "[Vectors Representations Tutorial](../../tutorials/word2vec/index.ipynb) for more details\n",
    "on embeddings), but to construct these embeddings we need to specify\n",
    "the maximum number of discrete symbols that will appear: `num_encoder_symbols`\n",
    "on the encoder side, and `num_decoder_symbols` on the decoder side.\n",
    "\n",
    "In the above invocation, we set `feed_previous` to False. This means that the\n",
    "decoder will use `decoder_inputs` tensors as provided. If we set `feed_previous`\n",
    "to True, the decoder would only use the first element of `decoder_inputs`.\n",
    "All other tensors from this list would be ignored, and instead the previous\n",
    "output of the encoder would be used. This is used for decoding translations\n",
    "in our translation model, but it can also be used during training, to make\n",
    "the model more robust to its own mistakes, similar\n",
    "to [Bengio et al., 2015](http://arxiv.org/pdf/1506.03099v2.pdf).\n",
    "\n",
    "One more important argument used above is `output_projection`. If not specified,\n",
    "the outputs of the embedding model will be tensors of shape batch-size by\n",
    "`num_decoder_symbols` as they represent the logits for each generated symbol.\n",
    "When training models with large output vocabularies, i.e., when\n",
    "`num_decoder_symbols` is large, it is not practical to store these large\n",
    "tensors. Instead, it is better to return smaller output tensors, which will\n",
    "later be projected onto a large output tensor using `output_projection`.\n",
    "This allows to use our seq2seq models with a sampled softmax loss, as described\n",
    "in [Jean et. al., 2015](http://arxiv.org/pdf/1412.2007v2.pdf).\n",
    "\n",
    "In addition to `basic_rnn_seq2seq` and `embedding_rnn_seq2seq` there are a few\n",
    "more sequence-to-sequence models in `seq2seq.py`, take a look there. They all\n",
    "have similar interfaces, so we will not describe them in detail. We will use\n",
    "`embedding_attention_seq2seq` for our translation model below.\n",
    "\n",
    "## Neural Translation Model\n",
    "\n",
    "While the core of the sequence-to-sequence model is constructed by\n",
    "the functions in `models/rnn/seq2seq.py`, there are still a few tricks\n",
    "that are worth mentioning that are used in our translation model in\n",
    "`models/rnn/translate/seq2seq_model.py`.\n",
    "\n",
    "### Sampled softmax and output projection\n",
    "\n",
    "For one, as already mentioned above, we want to use sampled softmax to\n",
    "handle large output vocabulary. To decode from it, we need to keep track\n",
    "of the output projection. Both the sampled softmax loss and the output\n",
    "projections are constructed by the following code in `seq2seq_model.py`."
   ]
  },
  {
   "cell_type": "code",
   "execution_count": null,
   "metadata": {},
   "outputs": [],
   "source": [
    "  if num_samples > 0 and num_samples < self.target_vocab_size:\n",
    "    w = tf.get_variable(\"proj_w\", [size, self.target_vocab_size])\n",
    "    w_t = tf.transpose(w)\n",
    "    b = tf.get_variable(\"proj_b\", [self.target_vocab_size])\n",
    "    output_projection = (w, b)\n",
    "\n",
    "    def sampled_loss(inputs, labels):\n",
    "      labels = tf.reshape(labels, [-1, 1])\n",
    "      return tf.nn.sampled_softmax_loss(w_t, b, inputs, labels, num_samples,\n",
    "                                        self.target_vocab_size)"
   ]
  },
  {
   "cell_type": "markdown",
   "metadata": {},
   "source": [
    "First, note that we only construct a sampled softmax if the number of samples\n",
    "(512 by default) is smaller that the target vocabulary size. For vocabularies\n",
    "smaller than 512 it might be a better idea to just use a standard softmax loss.\n",
    "\n",
    "Then, as you can see, we construct an output projection. It is a pair,\n",
    "consisting of a weight matrix and a bias vector. If used, the rnn cell\n",
    "will return vectors of shape batch-size by `size`, rather than batch-size\n",
    "by `target_vocab_size`. To recover logits, we need to multiply by the weight\n",
    "matrix and add the biases, as is done in lines 124-126 in `seq2seq_model.py`."
   ]
  },
  {
   "cell_type": "code",
   "execution_count": null,
   "metadata": {},
   "outputs": [],
   "source": [
    "if output_projection is not None:\n",
    "  self.outputs[b] = [tf.matmul(output, output_projection[0]) +\n",
    "                     output_projection[1] for ...]"
   ]
  },
  {
   "cell_type": "markdown",
   "metadata": {},
   "source": [
    "### Bucketing and padding\n",
    "\n",
    "In addition to sampled softmax, our translation model also makes use\n",
    "of *bucketing*, which is a method to efficiently handle sentences of\n",
    "different lengths. Let us first clarify the problem. When translating\n",
    "English to French, we will have English sentences of different lengths L1\n",
    "on input, and French sentences of different lengths L2 on output. Since\n",
    "the English sentence is passed as `encoder_inputs`, and the French sentence\n",
    "comes as `decoder_inputs` (prefixed by a GO symbol), we should in principle\n",
    "create a seq2seq model for every pair (L1, L2+1) of lengths of an English\n",
    "and French sentence. This would result in an enormous graph consisting of\n",
    "many very similar subgraphs. On the other hand, we could just pad every\n",
    "sentence with a special PAD symbol. Then we'd need only one seq2seq model,\n",
    "for the padded lengths. But on shorter sentence our model would be inefficient,\n",
    "encoding and decoding many PAD symbols that are useless.\n",
    "\n",
    "As a compromise between contructing a graph for every pair of lengths and\n",
    "padding to a single length, we use a number of *buckets* and pad each sentence\n",
    "to the length of the bucket above it. In `translate.py` we use the following\n",
    "default buckets."
   ]
  },
  {
   "cell_type": "code",
   "execution_count": null,
   "metadata": {},
   "outputs": [],
   "source": [
    "buckets = [(5, 10), (10, 15), (20, 25), (40, 50)]"
   ]
  },
  {
   "cell_type": "markdown",
   "metadata": {},
   "source": [
    "This means that if the input is an English sentence with 3 tokens,\n",
    "and the corresponding output is a French sentence with 6 tokens,\n",
    "then they will be put in the first bucket and padded to length 5 for\n",
    "encoder inputs, and length 10 for decoder inputs. If we have an English\n",
    "sentence with 8 tokens and the corresponding French sentence has 18 tokens,\n",
    "then they will not fit into the (10, 15) bucket, and so the (20, 25) bucket\n",
    "will be used, i.e. the English sentence will be padded to 20, and the French\n",
    "one to 25.\n",
    "\n",
    "Remember that when constructing decoder inputs we prepend the special `GO`\n",
    "symbol to the input data. This is done in the `get_batch()` function in\n",
    "`seq2seq_model.py`, which also reverses the input English sentence.\n",
    "Reversing the inputs was shown to improve results for the neural translation\n",
    "model in [Sutskever et al., 2014](http://arxiv.org/abs/1409.3215).\n",
    "To put it all together, imagine we have the sentence \"I go.\", tokenized\n",
    "as `[\"I\", \"go\", \".\"]` as input and the sentence \"Je vais.\" as output,\n",
    "tokenized `[\"Je\", \"vais\", \".\"]`. It will be put in the (5, 10) bucket,\n",
    "with encoder inputs representing `[PAD PAD \".\" \"go\" \"I\"]` and decoder\n",
    "inputs `[GO \"Je\" \"vais\" \".\" EOS PAD PAD PAD PAD PAD]`.\n",
    "\n",
    "\n",
    "## Let's Run It {#run_it}\n",
    "\n",
    "To train the model described above, we need to a large English-French corpus.\n",
    "We will use the *10^9-French-English corpus* from the\n",
    "[WMT'15 Website](http://www.statmt.org/wmt15/translation-task.html)\n",
    "for training, and the 2013 news test from the same site as development set.\n",
    "Both data-sets will be downloaded to `data_dir` and training will start,\n",
    "saving checkpoints in `train_dir`, when this command is run."
   ]
  },
  {
   "cell_type": "code",
   "execution_count": null,
   "metadata": {},
   "outputs": [],
   "source": [
    "python translate.py\n",
    "  --data_dir [your_data_directory] --train_dir [checkpoints_directory]\n",
    "  --en_vocab_size=40000 --fr_vocab_size=40000"
   ]
  },
  {
   "cell_type": "markdown",
   "metadata": {},
   "source": [
    "It takes  about 18GB of disk space and several hours to prepare the training\n",
    "corpus. It is unpacked, vocabulary files are created in `data_dir`, and then\n",
    "the corpus is tokenized and converted to integer ids. Note the parameters\n",
    "that determine vocabulary sizes. In the example above, all words outside\n",
    "the 40K most common ones will be converted to an `UNK` token representing\n",
    "unknown words. So if you change vocabulary size, the binary will re-map\n",
    "the corpus to token-ids again.\n",
    "\n",
    "After the data is prepared, training starts. Default parameters in `translate`\n",
    "are set to quite large values. Large models trained over a long time give good\n",
    "results, but it might take too long or use too much memory for your GPU.\n",
    "You can request to train a smaller model as in the following example."
   ]
  },
  {
   "cell_type": "code",
   "execution_count": null,
   "metadata": {},
   "outputs": [],
   "source": [
    "python translate.py\n",
    "  --data_dir [your_data_directory] --train_dir [checkpoints_directory]\n",
    "  --size=256 --num_layers=2 --steps_per_checkpoint=50"
   ]
  },
  {
   "cell_type": "markdown",
   "metadata": {},
   "source": [
    "The above command will train a model with 2 layers (the default is 3),\n",
    "each layer with 256 units (default is 1024), and will save a checkpoint\n",
    "every 50 steps (the default is 200). You can play with these parameters\n",
    "to find out how large a model can be to fit into the memory of your GPU.\n",
    "\n",
    "During training, every `steps_per_checkpoint` steps the binary will print\n",
    "out statistics from recent steps. With the default parameters (3 layers\n",
    "of size 1024), first messages look like this."
   ]
  },
  {
   "cell_type": "code",
   "execution_count": null,
   "metadata": {},
   "outputs": [],
   "source": [
    "global step 200 learning rate 0.5000 step-time 1.39 perplexity 1720.62\n",
    "  eval: bucket 0 perplexity 184.97\n",
    "  eval: bucket 1 perplexity 248.81\n",
    "  eval: bucket 2 perplexity 341.64\n",
    "  eval: bucket 3 perplexity 469.04\n",
    "global step 400 learning rate 0.5000 step-time 1.38 perplexity 379.89\n",
    "  eval: bucket 0 perplexity 151.32\n",
    "  eval: bucket 1 perplexity 190.36\n",
    "  eval: bucket 2 perplexity 227.46\n",
    "  eval: bucket 3 perplexity 238.66"
   ]
  },
  {
   "cell_type": "markdown",
   "metadata": {},
   "source": [
    "You can see that each step takes just under 1.4 seconds, the perplexity\n",
    "on the training set and the perplexities on the development set\n",
    "for each bucket. After about 30K steps, we see perplexities on short\n",
    "sentences (bucket 0 and 1) going into single digits.\n",
    "Since the training corpus contains ~22M sentences, one epoch (going through\n",
    "the training data once) takes about 340K steps with batch-size of 64. At this\n",
    "point the model can be used for translating English sentences to French\n",
    "using the `--decode` option."
   ]
  },
  {
   "cell_type": "code",
   "execution_count": null,
   "metadata": {},
   "outputs": [],
   "source": [
    "python translate.py --decode\n",
    "  --data_dir [your_data_directory] --train_dir [checkpoints_directory]\n",
    "\n",
    "Reading model parameters from /tmp/translate.ckpt-340000\n",
    ">  Who is the president of the United States?\n",
    " Qui est le président des États-Unis ?"
   ]
  },
  {
   "cell_type": "markdown",
   "metadata": {},
   "source": [
    "## What Next?\n",
    "\n",
    "The example above shows how you can build your own English-to-French\n",
    "translator, end-to-end. Run it and see how the model performs for yourself.\n",
    "While it has reasonable quality, the default parameters will not give you\n",
    "the best translation model. Here are a few things you can improve.\n",
    "\n",
    "First of all, we use a very primitive tokenizer, the `basic_tokenizer` function\n",
    "in `data_utils`. A better tokenizer can be found on the\n",
    "[WMT'15 Website](http://www.statmt.org/wmt15/translation-task.html).\n",
    "Using that tokenizer, and a larger vocabulary, should improve your translations.\n",
    "\n",
    "Also, the default parameters of the translation model are not tuned.\n",
    "You can try changing the learning rate, decay, or initializing the weights\n",
    "of your model in a different way. You can also change the default\n",
    "`GradientDescentOptimizer` in `seq2seq_model.py` to a more advanced one, such\n",
    "as `AdagradOptimizer`. Try these things and see how they improve your results!\n",
    "\n",
    "Finally, the model presented above can be used for any sequence-to-sequence\n",
    "task, not only for translation. Even if you want to transform a sequence to\n",
    "a tree, for example to generate a parsing tree, the same model as above can\n",
    "give state-of-the-art results, as demonstrated in\n",
    "[Vinyals & Kaiser et al., 2015](http://arxiv.org/abs/1412.7449).\n",
    "So you can not only build your own translator, you can also build a parser,\n",
    "a chat-bot, or any program that comes to your mind. Experiment!"
   ]
  }
 ],
 "metadata": {},
 "nbformat": 4,
 "nbformat_minor": 0
}
