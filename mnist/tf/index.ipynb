{
 "cells": [
  {
   "cell_type": "markdown",
   "metadata": {},
   "source": [
    "# TensorFlow Mechanics 101\n",
    "\n",
    "Code: [tensorflow/examples/tutorials/mnist/](https://tensorflow.googlesource.com/tensorflow/+/master/tensorflow/examples/tutorials/mnist/)\n",
    "\n",
    "The goal of this tutorial is to show how to use TensorFlow to train and\n",
    "evaluate a simple feed-forward neural network for handwritten digit\n",
    "classification using the (classic) MNIST data set.  The intended audience for\n",
    "this tutorial is experienced machine learning users interested in using\n",
    "TensorFlow.\n",
    "\n",
    "These tutorials are not intended for teaching Machine Learning in general.\n",
    "\n",
    "Please ensure you have followed the instructions to [install TensorFlow](https://www.tensorflow.org/versions/master/get_started/os_setup.html).\n",
    "\n",
    "## Tutorial Files\n",
    "\n",
    "This tutorial references the following files:\n",
    "\n",
    "File | Purpose\n",
    "--- | ---\n",
    "[`mnist.py`](https://tensorflow.googlesource.com/tensorflow/+/master/tensorflow/examples/tutorials/mnist/mnist.py) | The code to build a fully-connected MNIST model.\n",
    "[`fully_connected_feed.py`](https://tensorflow.googlesource.com/tensorflow/+/master/tensorflow/examples/tutorials/mnist/fully_connected_feed.py) | The main code to train the built MNIST model against the downloaded dataset using a feed dictionary.\n",
    "\n",
    "Simply run the `fully_connected_feed.py` file directly to start training:\n",
    "\n",
    "`python fully_connected_feed.py`\n",
    "\n",
    "## Prepare the Data\n",
    "\n",
    "MNIST is a classic problem in machine learning. The problem is to look at\n",
    "greyscale 28x28 pixel images of handwritten digits and determine which digit\n",
    "the image represents, for all the digits from zero to nine.\n",
    "\n",
    "![MNIST Digits](images/mnist_digits.png \"MNIST Digits\")\n",
    "\n",
    "For more information, refer to [Yann LeCun's MNIST page](http://yann.lecun.com/exdb/mnist/)\n",
    "or [Chris Olah's visualizations of MNIST](http://colah.github.io/posts/2014-10-Visualizing-MNIST/).\n",
    "\n",
    "### Download\n",
    "\n",
    "At the top of the `run_training()` method, the `input_data.read_data_sets()`\n",
    "function will ensure that the correct data has been downloaded to your local\n",
    "training folder and then unpack that data to return a dictionary of `DataSet`\n",
    "instances."
   ]
  },
  {
   "cell_type": "code",
   "execution_count": null,
   "metadata": {},
   "outputs": [],
   "source": [
    "data_sets = input_data.read_data_sets(FLAGS.train_dir, FLAGS.fake_data)"
   ]
  },
  {
   "cell_type": "markdown",
   "metadata": {},
   "source": [
    "**NOTE**: The `fake_data` flag is used for unit-testing purposes and may be\n",
    "safely ignored by the reader.\n",
    "\n",
    "Dataset | Purpose\n",
    "--- | ---\n",
    "`data_sets.train` | 55000 images and labels, for primary training.\n",
    "`data_sets.validation` | 5000 images and labels, for iterative validation of training accuracy.\n",
    "`data_sets.test` | 10000 images and labels, for final testing of trained accuracy.\n",
    "\n",
    "For more information about the data, please read the [Download](../download/index.ipynb)\n",
    "tutorial.\n",
    "\n",
    "### Inputs and Placeholders\n",
    "\n",
    "The `placeholder_inputs()` function creates two [`tf.placeholder`](https://www.tensorflow.org/versions/master/api_docs/python/io_ops.html#placeholder)\n",
    "ops that define the shape of the inputs, including the `batch_size`, to the\n",
    "rest of the graph and into which the actual training examples will be fed."
   ]
  },
  {
   "cell_type": "code",
   "execution_count": null,
   "metadata": {},
   "outputs": [],
   "source": [
    "images_placeholder = tf.placeholder(tf.float32, shape=(batch_size,\n",
    "                                                       IMAGE_PIXELS))\n",
    "labels_placeholder = tf.placeholder(tf.int32, shape=(batch_size))"
   ]
  },
  {
   "cell_type": "markdown",
   "metadata": {},
   "source": [
    "Further down, in the training loop, the full image and label datasets are\n",
    "sliced to fit the `batch_size` for each step, matched with these placeholder\n",
    "ops, and then passed into the `sess.run()` function using the `feed_dict`\n",
    "parameter.\n",
    "\n",
    "## Build the Graph\n",
    "\n",
    "After creating placeholders for the data, the graph is built from the\n",
    "`mnist.py` file according to a 3-stage pattern: `inference()`, `loss()`, and\n",
    "`training()`.\n",
    "\n",
    "1.  `inference()` - Builds the graph as far as is required for running\n",
    "the network forward to make predictions.\n",
    "1.  `loss()` - Adds to the inference graph the ops required to generate\n",
    "loss.\n",
    "1.  `training()` - Adds to the loss graph the ops required to compute\n",
    "and apply gradients.\n",
    "\n",
    "<div style=\"width:95%; margin:auto; margin-bottom:10px; margin-top:20px;\">\n",
    "  <img style=\"width:100%\" src=\"images/mnist_subgraph.png\">\n",
    "</div>\n",
    "\n",
    "### Inference\n",
    "\n",
    "The `inference()` function builds the graph as far as needed to\n",
    "return the tensor that would contain the output predictions.\n",
    "\n",
    "It takes the images placeholder as input and builds on top\n",
    "of it a pair of fully connected layers with ReLu activation followed by a ten\n",
    "node linear layer specifying the output logits.\n",
    "\n",
    "Each layer is created beneath a unique [`tf.name_scope`](https://www.tensorflow.org/versions/master/api_docs/python/framework.html#name_scope)\n",
    "that acts as a prefix to the items created within that scope."
   ]
  },
  {
   "cell_type": "code",
   "execution_count": null,
   "metadata": {},
   "outputs": [],
   "source": [
    "with tf.name_scope('hidden1') as scope:"
   ]
  },
  {
   "cell_type": "markdown",
   "metadata": {},
   "source": [
    "Within the defined scope, the weights and biases to be used by each of these\n",
    "layers are generated into [`tf.Variable`](https://www.tensorflow.org/versions/master/api_docs/python/state_ops.html#Variable)\n",
    "instances, with their desired shapes:"
   ]
  },
  {
   "cell_type": "code",
   "execution_count": null,
   "metadata": {},
   "outputs": [],
   "source": [
    "weights = tf.Variable(\n",
    "    tf.truncated_normal([IMAGE_PIXELS, hidden1_units],\n",
    "                        stddev=1.0 / math.sqrt(float(IMAGE_PIXELS))),\n",
    "    name='weights')\n",
    "biases = tf.Variable(tf.zeros([hidden1_units]),\n",
    "                     name='biases')"
   ]
  },
  {
   "cell_type": "markdown",
   "metadata": {},
   "source": [
    "When, for instance, these are created under the `hidden1` scope, the unique\n",
    "name given to the weights variable would be \"`hidden1/weights`\".\n",
    "\n",
    "Each variable is given initializer ops as part of their construction.\n",
    "\n",
    "In this most common case, the weights are initialized with the\n",
    "[`tf.truncated_normal`](https://www.tensorflow.org/versions/master/api_docs/python/constant_op.html#truncated_normal)\n",
    "and given their shape of a 2-D tensor with\n",
    "the first dim representing the number of units in the layer from which the\n",
    "weights connect and the second dim representing the number of\n",
    "units in the layer to which the weights connect.  For the first layer, named\n",
    "`hidden1`, the dimensions are `[IMAGE_PIXELS, hidden1_units]` because the\n",
    "weights are connecting the image inputs to the hidden1 layer.  The\n",
    "`tf.truncated_normal` initializer generates a random distribution with a given\n",
    "mean and standard deviation.\n",
    "\n",
    "Then the biases are initialized with [`tf.zeros`](https://www.tensorflow.org/versions/master/api_docs/python/constant_op.html#zeros)\n",
    "to ensure they start with all zero values, and their shape is simply the number\n",
    "of units in the layer to which they connect.\n",
    "\n",
    "The graph's three primary ops -- two [`tf.nn.relu`](https://www.tensorflow.org/versions/master/api_docs/python/nn.html#relu)\n",
    "ops wrapping [`tf.matmul`](https://www.tensorflow.org/versions/master/api_docs/python/math_ops.html#matmul)\n",
    "for the hidden layers and one extra `tf.matmul` for the logits -- are then\n",
    "created, each in turn, with separate `tf.Variable` instances connected to each\n",
    "of the input placeholders or the output tensors of the previous layer."
   ]
  },
  {
   "cell_type": "code",
   "execution_count": null,
   "metadata": {},
   "outputs": [],
   "source": [
    "hidden1 = tf.nn.relu(tf.matmul(images, weights) + biases)"
   ]
  },
  {
   "cell_type": "code",
   "execution_count": null,
   "metadata": {},
   "outputs": [],
   "source": [
    "hidden2 = tf.nn.relu(tf.matmul(hidden1, weights) + biases)"
   ]
  },
  {
   "cell_type": "code",
   "execution_count": null,
   "metadata": {},
   "outputs": [],
   "source": [
    "logits = tf.matmul(hidden2, weights) + biases"
   ]
  },
  {
   "cell_type": "markdown",
   "metadata": {},
   "source": [
    "Finally, the `logits` tensor that will contain the output is returned.\n",
    "\n",
    "### Loss\n",
    "\n",
    "The `loss()` function further builds the graph by adding the required loss\n",
    "ops.\n",
    "\n",
    "First, the values from the `labels_placeholder` are encoded as a tensor of 1-hot\n",
    "values. For example, if the class identifier is '3' the value is converted to:\n",
    "<br>`[0, 0, 0, 1, 0, 0, 0, 0, 0, 0]`"
   ]
  },
  {
   "cell_type": "code",
   "execution_count": null,
   "metadata": {},
   "outputs": [],
   "source": [
    "batch_size = tf.size(labels)\n",
    "labels = tf.expand_dims(labels, 1)\n",
    "indices = tf.expand_dims(tf.range(0, batch_size, 1), 1)\n",
    "concated = tf.concat(1, [indices, labels])\n",
    "onehot_labels = tf.sparse_to_dense(\n",
    "    concated, tf.pack([batch_size, NUM_CLASSES]), 1.0, 0.0)"
   ]
  },
  {
   "cell_type": "markdown",
   "metadata": {},
   "source": [
    "A [`tf.nn.softmax_cross_entropy_with_logits`](https://www.tensorflow.org/versions/master/api_docs/python/nn.html#softmax_cross_entropy_with_logits)\n",
    "op is then added to compare the output logits from the `inference()` function\n",
    "and the 1-hot labels."
   ]
  },
  {
   "cell_type": "code",
   "execution_count": null,
   "metadata": {},
   "outputs": [],
   "source": [
    "cross_entropy = tf.nn.softmax_cross_entropy_with_logits(logits,\n",
    "                                                        onehot_labels,\n",
    "                                                        name='xentropy')"
   ]
  },
  {
   "cell_type": "markdown",
   "metadata": {},
   "source": [
    "It then uses [`tf.reduce_mean`](https://www.tensorflow.org/versions/master/api_docs/python/math_ops.html#reduce_mean)\n",
    "to average the cross entropy values across the batch dimension (the first\n",
    "dimension) as the total loss."
   ]
  },
  {
   "cell_type": "code",
   "execution_count": null,
   "metadata": {},
   "outputs": [],
   "source": [
    "loss = tf.reduce_mean(cross_entropy, name='xentropy_mean')"
   ]
  },
  {
   "cell_type": "markdown",
   "metadata": {},
   "source": [
    "And the tensor that will then contain the loss value is returned.\n",
    "\n",
    "> Note: Cross-entropy is an idea from information theory that allows us\n",
    "> to describe how bad it is to believe the predictions of the neural network,\n",
    "> given what is actually true. For more information, read the blog post Visual\n",
    "> Information Theory (http://colah.github.io/posts/2015-09-Visual-Information/)\n",
    "\n",
    "### Training\n",
    "\n",
    "The `training()` function adds the operations needed to minimize the loss via\n",
    "gradient descent.\n",
    "\n",
    "Firstly, it takes the loss tensor from the `loss()` function and hands it to a\n",
    "[`tf.scalar_summary`](https://www.tensorflow.org/versions/master/api_docs/python/train.html#scalar_summary),\n",
    "an op for generating summary values into the events file when used with a\n",
    "`SummaryWriter` (see below).  In this case, it will emit the snapshot value of\n",
    "the loss every time the summaries are written out."
   ]
  },
  {
   "cell_type": "code",
   "execution_count": null,
   "metadata": {},
   "outputs": [],
   "source": [
    "tf.scalar_summary(loss.op.name, loss)"
   ]
  },
  {
   "cell_type": "markdown",
   "metadata": {},
   "source": [
    "Next, we instantiate a [`tf.train.GradientDescentOptimizer`](https://www.tensorflow.org/versions/master/api_docs/python/train.html#GradientDescentOptimizer)\n",
    "responsible for applying gradients with the requested learning rate."
   ]
  },
  {
   "cell_type": "code",
   "execution_count": null,
   "metadata": {},
   "outputs": [],
   "source": [
    "optimizer = tf.train.GradientDescentOptimizer(FLAGS.learning_rate)"
   ]
  },
  {
   "cell_type": "markdown",
   "metadata": {},
   "source": [
    "We then generate a single variable to contain a counter for the global\n",
    "training step and the [`minimize()`](https://www.tensorflow.org/versions/master/api_docs/python/train.html#Optimizer.minimize)\n",
    "op is used to both update the trainable weights in the system and increment the\n",
    "global step.  This is, by convention, known as the `train_op` and is what must\n",
    "be run by a TensorFlow session in order to induce one full step of training\n",
    "(see below)."
   ]
  },
  {
   "cell_type": "code",
   "execution_count": null,
   "metadata": {},
   "outputs": [],
   "source": [
    "global_step = tf.Variable(0, name='global_step', trainable=False)\n",
    "train_op = optimizer.minimize(loss, global_step=global_step)"
   ]
  },
  {
   "cell_type": "markdown",
   "metadata": {},
   "source": [
    "The tensor containing the outputs of the training op is returned.\n",
    "\n",
    "## Train the Model\n",
    "\n",
    "Once the graph is built, it can be iteratively trained and evaluated in a loop\n",
    "controlled by the user code in `fully_connected_feed.py`.\n",
    "\n",
    "### The Graph\n",
    "\n",
    "At the top of the `run_training()` function is a python `with` command that\n",
    "indicates all of the built ops are to be associated with the default\n",
    "global [`tf.Graph`](https://www.tensorflow.org/versions/master/api_docs/python/framework.html#Graph)\n",
    "instance."
   ]
  },
  {
   "cell_type": "code",
   "execution_count": null,
   "metadata": {},
   "outputs": [],
   "source": [
    "with tf.Graph().as_default():"
   ]
  },
  {
   "cell_type": "markdown",
   "metadata": {},
   "source": [
    "A `tf.Graph` is a collection of ops that may be executed together as a group.\n",
    "Most TensorFlow uses will only need to rely on the single default graph.\n",
    "\n",
    "More complicated uses with multiple graphs are possible, but beyond the scope of\n",
    "this simple tutorial.\n",
    "\n",
    "### The Session\n",
    "\n",
    "Once all of the build preparation has been completed and all of the necessary\n",
    "ops generated, a [`tf.Session`](https://www.tensorflow.org/versions/master/api_docs/python/client.html#Session)\n",
    "is created for running the graph."
   ]
  },
  {
   "cell_type": "code",
   "execution_count": null,
   "metadata": {},
   "outputs": [],
   "source": [
    "sess = tf.Session()"
   ]
  },
  {
   "cell_type": "markdown",
   "metadata": {},
   "source": [
    "Alternately, a `Session` may be generated into a `with` block for scoping:"
   ]
  },
  {
   "cell_type": "code",
   "execution_count": null,
   "metadata": {},
   "outputs": [],
   "source": [
    "with tf.Session() as sess:"
   ]
  },
  {
   "cell_type": "markdown",
   "metadata": {},
   "source": [
    "The empty parameter to session indicates that this code will attach to\n",
    "(or create if not yet created) the default local session.\n",
    "\n",
    "Immediately after creating the session, all of the `tf.Variable`\n",
    "instances are initialized by calling [`sess.run()`](https://www.tensorflow.org/versions/master/api_docs/python/client.html#Session.run)\n",
    "on their initialization op."
   ]
  },
  {
   "cell_type": "code",
   "execution_count": null,
   "metadata": {},
   "outputs": [],
   "source": [
    "init = tf.initialize_all_variables()\n",
    "sess.run(init)"
   ]
  },
  {
   "cell_type": "markdown",
   "metadata": {},
   "source": [
    "The [`sess.run()`](https://www.tensorflow.org/versions/master/api_docs/python/client.html#Session.run)\n",
    "method will run the complete subset of the graph that\n",
    "corresponds to the op(s) passed as parameters.  In this first call, the `init`\n",
    "op is a [`tf.group`](https://www.tensorflow.org/versions/master/api_docs/python/control_flow_ops.html#group)\n",
    "that contains only the initializers for the variables.  None of the rest of the\n",
    "graph is run here; that happens in the training loop below.\n",
    "\n",
    "### Train Loop\n",
    "\n",
    "After initializing the variables with the session, training may begin.\n",
    "\n",
    "The user code controls the training per step, and the simplest loop that\n",
    "can do useful training is:"
   ]
  },
  {
   "cell_type": "code",
   "execution_count": null,
   "metadata": {},
   "outputs": [],
   "source": [
    "for step in xrange(max_steps):\n",
    "    sess.run(train_op)"
   ]
  },
  {
   "cell_type": "markdown",
   "metadata": {},
   "source": [
    "However, this tutorial is slightly more complicated in that it must also slice\n",
    "up the input data for each step to match the previously generated placeholders.\n",
    "\n",
    "#### Feed the Graph\n",
    "\n",
    "For each step, the code will generate a feed dictionary that will contain the\n",
    "set of examples on which to train for the step, keyed by the placeholder\n",
    "ops they represent.\n",
    "\n",
    "In the `fill_feed_dict()` function, the given `DataSet` is queried for its next\n",
    "`batch_size` set of images and labels, and tensors matching the placeholders are\n",
    "filled containing the next images and labels."
   ]
  },
  {
   "cell_type": "code",
   "execution_count": null,
   "metadata": {},
   "outputs": [],
   "source": [
    "images_feed, labels_feed = data_set.next_batch(FLAGS.batch_size)"
   ]
  },
  {
   "cell_type": "markdown",
   "metadata": {},
   "source": [
    "A python dictionary object is then generated with the placeholders as keys and\n",
    "the representative feed tensors as values."
   ]
  },
  {
   "cell_type": "code",
   "execution_count": null,
   "metadata": {},
   "outputs": [],
   "source": [
    "feed_dict = {\n",
    "    images_placeholder: images_feed,\n",
    "    labels_placeholder: labels_feed,\n",
    "}"
   ]
  },
  {
   "cell_type": "markdown",
   "metadata": {},
   "source": [
    "This is passed into the `sess.run()` function's `feed_dict` parameter to provide\n",
    "the input examples for this step of training.\n",
    "\n",
    "#### Check the Status\n",
    "\n",
    "The code specifies two values to fetch in its run call: `[train_op, loss]`."
   ]
  },
  {
   "cell_type": "code",
   "execution_count": null,
   "metadata": {},
   "outputs": [],
   "source": [
    "for step in xrange(FLAGS.max_steps):\n",
    "    feed_dict = fill_feed_dict(data_sets.train,\n",
    "                               images_placeholder,\n",
    "                               labels_placeholder)\n",
    "    _, loss_value = sess.run([train_op, loss],\n",
    "                             feed_dict=feed_dict)"
   ]
  },
  {
   "cell_type": "markdown",
   "metadata": {},
   "source": [
    "Because there are two values to fetch, `sess.run()` returns a tuple with two\n",
    "items.  Each `Tensor` in the list of values to fetch corresponds to a numpy\n",
    "array in the returned tuple, filled with the value of that tensor during this\n",
    "step of training. Since `train_op` is an `Operation` with no output value, the\n",
    "corresponding element in the returned tuple is `None` and, thus,\n",
    "discarded. However, the value of the `loss` tensor may become NaN if the model\n",
    "diverges during training, so we capture this value for logging.\n",
    "\n",
    "Assuming that the training runs fine without NaNs, the training loop also\n",
    "prints a simple status text every 100 steps to let the user know the state of\n",
    "training."
   ]
  },
  {
   "cell_type": "code",
   "execution_count": null,
   "metadata": {},
   "outputs": [],
   "source": [
    "if step % 100 == 0:\n",
    "    print 'Step %d: loss = %.2f (%.3f sec)' % (step, loss_value, duration)"
   ]
  },
  {
   "cell_type": "markdown",
   "metadata": {},
   "source": [
    "#### Visualize the Status\n",
    "\n",
    "In order to emit the events files used by [TensorBoard](https://www.tensorflow.org/versions/master/how_tos/summaries_and_tensorboard/index.html),\n",
    "all of the summaries (in this case, only one) are collected into a single op\n",
    "during the graph building phase."
   ]
  },
  {
   "cell_type": "code",
   "execution_count": null,
   "metadata": {},
   "outputs": [],
   "source": [
    "summary_op = tf.merge_all_summaries()"
   ]
  },
  {
   "cell_type": "markdown",
   "metadata": {},
   "source": [
    "And then after the session is created, a [`tf.train.SummaryWriter`](https://www.tensorflow.org/versions/master/api_docs/python/train.html#SummaryWriter)\n",
    "may be instantiated to write the events files, which\n",
    "contain both the graph itself and the values of the summaries."
   ]
  },
  {
   "cell_type": "code",
   "execution_count": null,
   "metadata": {},
   "outputs": [],
   "source": [
    "summary_writer = tf.train.SummaryWriter(FLAGS.train_dir,\n",
    "                                        graph_def=sess.graph_def)"
   ]
  },
  {
   "cell_type": "markdown",
   "metadata": {},
   "source": [
    "Lastly, the events file will be updated with new summary values every time the\n",
    "`summary_op` is run and the ouput passed to the writer's `add_summary()`\n",
    "function."
   ]
  },
  {
   "cell_type": "code",
   "execution_count": null,
   "metadata": {},
   "outputs": [],
   "source": [
    "summary_str = sess.run(summary_op, feed_dict=feed_dict)\n",
    "summary_writer.add_summary(summary_str, step)"
   ]
  },
  {
   "cell_type": "markdown",
   "metadata": {},
   "source": [
    "When the events files are written, TensorBoard may be run against the training\n",
    "folder to display the values from the summaries.\n",
    "\n",
    "![MNIST TensorBoard](images/mnist_tensorboard.png \"MNIST TensorBoard\")\n",
    "\n",
    "**NOTE**: For more info about how to build and run Tensorboard, please see the accompanying tutorial [Tensorboard: Visualizing Your Training](https://www.tensorflow.org/versions/master/how_tos/summaries_and_tensorboard/index.html).\n",
    "\n",
    "#### Save a Checkpoint\n",
    "\n",
    "In order to emit a checkpoint file that may be used to later restore a model\n",
    "for further training or evaluation, we instantiate a\n",
    "[`tf.train.Saver`](https://www.tensorflow.org/versions/master/api_docs/python/state_ops.html#Saver)."
   ]
  },
  {
   "cell_type": "code",
   "execution_count": null,
   "metadata": {},
   "outputs": [],
   "source": [
    "saver = tf.train.Saver()"
   ]
  },
  {
   "cell_type": "markdown",
   "metadata": {},
   "source": [
    "In the training loop, the [`saver.save()`](https://www.tensorflow.org/versions/master/api_docs/python/state_ops.html#Saver.save)\n",
    "method will periodically be called to write a checkpoint file to the training\n",
    "directory with the current values of all the trainable variables."
   ]
  },
  {
   "cell_type": "code",
   "execution_count": null,
   "metadata": {},
   "outputs": [],
   "source": [
    "saver.save(sess, FLAGS.train_dir, global_step=step)"
   ]
  },
  {
   "cell_type": "markdown",
   "metadata": {},
   "source": [
    "At some later point in the future, training might be resumed by using the\n",
    "[`saver.restore()`](https://www.tensorflow.org/versions/master/api_docs/python/state_ops.html#Saver.restore)\n",
    "method to reload the model parameters."
   ]
  },
  {
   "cell_type": "code",
   "execution_count": null,
   "metadata": {},
   "outputs": [],
   "source": [
    "saver.restore(sess, FLAGS.train_dir)"
   ]
  },
  {
   "cell_type": "markdown",
   "metadata": {},
   "source": [
    "## Evaluate the Model\n",
    "\n",
    "Every thousand steps, the code will attempt to evaluate the model against both\n",
    "the training and test datasets.  The `do_eval()` function is called thrice, for\n",
    "the training, validation, and test datasets."
   ]
  },
  {
   "cell_type": "code",
   "execution_count": null,
   "metadata": {},
   "outputs": [],
   "source": [
    "print 'Training Data Eval:'\n",
    "do_eval(sess,\n",
    "        eval_correct,\n",
    "        images_placeholder,\n",
    "        labels_placeholder,\n",
    "        data_sets.train)\n",
    "print 'Validation Data Eval:'\n",
    "do_eval(sess,\n",
    "        eval_correct,\n",
    "        images_placeholder,\n",
    "        labels_placeholder,\n",
    "        data_sets.validation)\n",
    "print 'Test Data Eval:'\n",
    "do_eval(sess,\n",
    "        eval_correct,\n",
    "        images_placeholder,\n",
    "        labels_placeholder,\n",
    "        data_sets.test)"
   ]
  },
  {
   "cell_type": "markdown",
   "metadata": {},
   "source": [
    "> Note that more complicated usage would usually sequester the `data_sets.test`\n",
    "> to only be checked after significant amounts of hyperparameter tuning.  For\n",
    "> the sake of a simple little MNIST problem, however, we evaluate against all of\n",
    "> the data.\n",
    "\n",
    "### Build the Eval Graph\n",
    "\n",
    "Before opening the default Graph, the test data should have been fetched by\n",
    "calling the `get_data(train=False)` function with the parameter set to grab\n",
    "the test dataset."
   ]
  },
  {
   "cell_type": "code",
   "execution_count": null,
   "metadata": {},
   "outputs": [],
   "source": [
    "test_all_images, test_all_labels = get_data(train=False)"
   ]
  },
  {
   "cell_type": "markdown",
   "metadata": {},
   "source": [
    "Before entering the training loop, the Eval op should have been built\n",
    "by calling the `evaluation()` function from `mnist.py` with the same\n",
    "logits/labels parameters as the `loss()` function."
   ]
  },
  {
   "cell_type": "code",
   "execution_count": null,
   "metadata": {},
   "outputs": [],
   "source": [
    "eval_correct = mnist.evaluation(logits, labels_placeholder)"
   ]
  },
  {
   "cell_type": "markdown",
   "metadata": {},
   "source": [
    "The `evaluation()` function simply generates a [`tf.nn.in_top_k`](https://www.tensorflow.org/versions/master/api_docs/python/nn.html#in_top_k)\n",
    "op that can automatically score each model output as correct if the true label\n",
    "can be found in the K most-likely predictions.  In this case, we set the value\n",
    "of K to 1 to only consider a prediction correct if it is for the true label."
   ]
  },
  {
   "cell_type": "code",
   "execution_count": null,
   "metadata": {},
   "outputs": [],
   "source": [
    "eval_correct = tf.nn.in_top_k(logits, labels, 1)"
   ]
  },
  {
   "cell_type": "markdown",
   "metadata": {},
   "source": [
    "### Eval Output\n",
    "\n",
    "One can then create a loop for filling a `feed_dict` and calling `sess.run()`\n",
    "against the `eval_correct` op to evaluate the model on the given dataset."
   ]
  },
  {
   "cell_type": "code",
   "execution_count": null,
   "metadata": {},
   "outputs": [],
   "source": [
    "for step in xrange(steps_per_epoch):\n",
    "    feed_dict = fill_feed_dict(data_set,\n",
    "                               images_placeholder,\n",
    "                               labels_placeholder)\n",
    "    true_count += sess.run(eval_correct, feed_dict=feed_dict)"
   ]
  },
  {
   "cell_type": "markdown",
   "metadata": {},
   "source": [
    "The `true_count` variable simply accumulates all of the predictions that the\n",
    "`in_top_k` op has determined to be correct.  From there, the precision may be\n",
    "calculated from simply dividing by the total number of examples."
   ]
  },
  {
   "cell_type": "code",
   "execution_count": null,
   "metadata": {},
   "outputs": [],
   "source": [
    "precision = float(true_count) / float(num_examples)\n",
    "print '  Num examples: %d  Num correct: %d  Precision @ 1: %0.02f' % (\n",
    "    num_examples, true_count, precision)"
   ]
  }
 ],
 "metadata": {},
 "nbformat": 4,
 "nbformat_minor": 0
}
