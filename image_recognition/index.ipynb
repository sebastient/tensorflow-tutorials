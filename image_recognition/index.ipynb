{
 "cells": [
  {
   "cell_type": "markdown",
   "metadata": {},
   "source": [
    "# Image Recognition\n",
    "\n",
    "Our brains make vision seem easy. It doesn't take any effort for humans to\n",
    "tell apart a lion and a jaguar, read a sign, or recognize a human's face.\n",
    "But these are actually hard problems to solve with a computer: they only\n",
    "seem easy because our brains are incredibly good at understanding images.\n",
    "\n",
    "In the last few years the field of machine learning has made tremendous\n",
    "progress on addressing these difficult problems. In particular, we've\n",
    "found that a kind of model called a deep\n",
    "[convolutional neural network](http://colah.github.io/posts/2014-07-Conv-Nets-Modular/)\n",
    "can achieve reasonable performance on hard visual recognition tasks --\n",
    "matching or exceeding human performance in some domains.\n",
    "\n",
    "Researchers have demonstrated steady progress\n",
    "in computer vision by validating their work against\n",
    "[ImageNet](http://www.image-net.org) -- an academic benchmark for computer vision.\n",
    "Successive models continue to show improvements, each time achieving\n",
    "a new state-of-the-art result:\n",
    "[QuocNet], [AlexNet], [Inception (GoogLeNet)], [BN-Inception-v2].\n",
    "Researchers both internal and external to Google have published papers describing all\n",
    "these models but the results are still hard to reproduce.\n",
    "We're now taking the next step by releasing code for running image recognition\n",
    "on our latest model, [Inception-v3].\n",
    "\n",
    "[QuocNet]: http://static.googleusercontent.com/media/research.google.com/en//archive/unsupervised_icml2012.pdf\n",
    "[AlexNet]: http://www.cs.toronto.edu/~fritz/absps/imagenet.pdf\n",
    "[Inception (GoogLeNet)]: http://arxiv.org/abs/1409.4842\n",
    "[BN-Inception-v2]: http://arxiv.org/abs/1502.03167\n",
    "[Inception-v3]: http://arxiv.org/abs/1512.00567\n",
    "\n",
    "Inception-v3 is trained for the [ImageNet] Large Visual Recognition Challenge\n",
    "using the data from 2012. This is a standard task in computer vision,\n",
    "where models try to classify entire\n",
    "images into [1000 classes], like \"Zebra\", \"Dalmatian\", and \"Dishwasher\".\n",
    "For example, here are the results from [AlexNet] classifying some images:\n",
    "\n",
    "<div style=\"width:50%; margin:auto; margin-bottom:10px; margin-top:20px;\">\n",
    "<img style=\"width:100%\" src=\"../../images/AlexClassification.png\">\n",
    "</div>\n",
    "\n",
    "To compare models, we examine how often the model fails to predict the\n",
    "correct answer as one of their top 5 guesses -- termed \"top-5 error rate\".\n",
    "[AlexNet] achieved by setting a top-5 error rate of 15.3% on the 2012\n",
    "validation data set; [BN-Inception-v2] achieved 6.66%;\n",
    "[Inception-v3] reaches 3.46%.\n",
    "\n",
    "> How well do humans do on ImageNet Challenge? There's a [blog post] by\n",
    "Andrej Karpathy who attempted to measure his own performance. He reached\n",
    "5.1% top-5 error rate.\n",
    "\n",
    "[ImageNet]: http://image-net.org/\n",
    "[1000 classes]: http://image-net.org/challenges/LSVRC/2014/browse-synsets\n",
    "[blog post]: http://karpathy.github.io/2014/09/02/what-i-learned-from-competing-against-a-convnet-on-imagenet/\n",
    "\n",
    "This tutorial will teach you how to use [Inception-v3]. You'll learn how to\n",
    "classify images into [1000 classes] in Python or C++. We'll also discuss how to\n",
    "extract higher level features from this model which may be reused for other\n",
    "vision tasks.\n",
    "\n",
    "We're excited to see what the community will do with this model.\n",
    "\n",
    "\n",
    "##Usage with Python API\n",
    "\n",
    "`classify_image.py` downloads the trained model from `tensorflow.org`\n",
    "when the program is run for the first time. You'll need about 200M of free space\n",
    "available on your hard disk.\n",
    "\n",
    "The following instructions assume you installed TensorFlow from a PIP package\n",
    "and that your terminal resides in the TensorFlow root directory."
   ]
  },
  {
   "cell_type": "code",
   "execution_count": null,
   "metadata": {},
   "outputs": [],
   "source": [
    "cd tensorflow/models/image/imagenet\n",
    "python classify_image.py"
   ]
  },
  {
   "cell_type": "markdown",
   "metadata": {},
   "source": [
    "The above command will classify a supplied image of a panda bear.\n",
    "\n",
    "<div style=\"width:15%; margin:auto; margin-bottom:10px; margin-top:20px;\">\n",
    "  <img style=\"width:100%\" src=\"../../images/cropped_panda.jpg\">\n",
    "</div>\n",
    "\n",
    "If the model runs correctly, the script will produce the following output:"
   ]
  },
  {
   "cell_type": "code",
   "execution_count": null,
   "metadata": {},
   "outputs": [],
   "source": [
    "giant panda, panda, panda bear, coon bear, Ailuropoda melanoleuca (score = 0.88493)\n",
    "indri, indris, Indri indri, Indri brevicaudatus (score = 0.00878)\n",
    "lesser panda, red panda, panda, bear cat, cat bear, Ailurus fulgens (score = 0.00317)\n",
    "custard apple (score = 0.00149)\n",
    "earthstar (score = 0.00127)"
   ]
  },
  {
   "cell_type": "markdown",
   "metadata": {},
   "source": [
    "If you wish to supply other JPEG images, you may do so by editing\n",
    "the `--image_file` argument.\n",
    "\n",
    "> If you download the model data to a different directory, you\n",
    "will need to point `--model_dir`  to the directory used.\n",
    "\n",
    "## Usage with the C++ API\n",
    "\n",
    "You can run the same [Inception-v3] model in C++ for use in production\n",
    "environments. You can download the archive containing the GraphDef that defines\n",
    "the model like this (running from the root directory of the TensorFlow\n",
    "repository):"
   ]
  },
  {
   "cell_type": "code",
   "execution_count": null,
   "metadata": {},
   "outputs": [],
   "source": [
    "%%bash\n",
    "wget https://storage.googleapis.com/download.tensorflow.org/models/inception_dec_2015.zip -O tensorflow/examples/label_image/data/inception_dec_2015.zip\n",
    "\n",
    "unzip tensorflow/examples/label_image/data/inception_dec_2015.zip -d tensorflow/examples/label_image/data/"
   ]
  },
  {
   "cell_type": "markdown",
   "metadata": {},
   "source": [
    "Next, we need to compile the C++ binary that includes the code to load and run the graph.\n",
    "If you've followed [the instructions to download the source installation of\n",
    "TensorFlow](http://www.tensorflow.org/versions/master/get_started/os_setup.html#source)\n",
    "for your platform, you should be able to build the example by\n",
    "running this command from your shell terminal:"
   ]
  },
  {
   "cell_type": "code",
   "execution_count": null,
   "metadata": {},
   "outputs": [],
   "source": [
    "%%bash\n",
    "bazel build tensorflow/examples/label_image/..."
   ]
  },
  {
   "cell_type": "markdown",
   "metadata": {},
   "source": [
    "That should create a binary executable that you can then run like this:"
   ]
  },
  {
   "cell_type": "code",
   "execution_count": null,
   "metadata": {},
   "outputs": [],
   "source": [
    "%%bash\n",
    "bazel-bin/tensorflow/examples/label_image/label_image"
   ]
  },
  {
   "cell_type": "markdown",
   "metadata": {},
   "source": [
    "This uses the default example image that ships with the framework, and should\n",
    "output something similar to this:"
   ]
  },
  {
   "cell_type": "code",
   "execution_count": null,
   "metadata": {},
   "outputs": [],
   "source": [
    "I tensorflow/examples/label_image/main.cc:200] military uniform (866): 0.647296\n",
    "I tensorflow/examples/label_image/main.cc:200] suit (794): 0.0477196\n",
    "I tensorflow/examples/label_image/main.cc:200] academic gown (896): 0.0232411\n",
    "I tensorflow/examples/label_image/main.cc:200] bow tie (817): 0.0157356\n",
    "I tensorflow/examples/label_image/main.cc:200] bolo tie (940): 0.0145024"
   ]
  },
  {
   "cell_type": "markdown",
   "metadata": {},
   "source": [
    "In this case, we're using the default image of\n",
    "[Admiral Grace Hopper](https://en.wikipedia.org/wiki/Grace_Hopper), and you can\n",
    "see the network correctly identifies she's wearing a military uniform, with a high\n",
    "score of 0.6.\n",
    "\n",
    "\n",
    "<div style=\"width:45%; margin:auto; margin-bottom:10px; margin-top:20px;\">\n",
    "  <img style=\"width:100%\" src=\"../../images/grace_hopper.jpg\">\n",
    "</div>\n",
    "\n",
    "Next, try it out on your own images by supplying the --image= argument, e.g."
   ]
  },
  {
   "cell_type": "code",
   "execution_count": null,
   "metadata": {},
   "outputs": [],
   "source": [
    "%%bash\n",
    "bazel-bin/tensorflow/examples/label_image/label_image --image=my_image.png"
   ]
  },
  {
   "cell_type": "markdown",
   "metadata": {},
   "source": [
    "If you look inside the [`tensorflow/examples/label_image/main.cc`](https://github.com/tensorflow/tensorflow/blob/master/tensorflow/examples/label_image/main.cc)\n",
    "file, you can find out\n",
    "how it works. We hope this code will help you integrate TensorFlow into\n",
    "your own applications, so we will walk step by step through the main functions:\n",
    "\n",
    "The command line flags control where the files are loaded from, and properties of the input images.\n",
    "The model expects to get square 299x299 RGB images, so those are the `input_width`\n",
    "and `input_height` flags. We also need to scale the pixel values from integers that\n",
    "are between 0 and 255 to the floating point values that the graph operates on.\n",
    "We control the scaling with the `input_mean` and `input_std` flags: we first subtract\n",
    "`input_mean` from each pixel value, then divide it by `input_std`.\n",
    "\n",
    "These values probably look somewhat magical, but they are just defined by the \n",
    "original model author based on what he/she wanted to use as input images for \n",
    "training. If you have a graph that you've trained yourself, you'll just need\n",
    "to adjust the values to match whatever you used during your training process.\n",
    "\n",
    "You can see how they're applied to an image in the [`ReadTensorFromImageFile()`]\n",
    "(https://github.com/tensorflow/tensorflow/blob/master/tensorflow/examples/label_image/main.cc#L88)\n",
    "function."
   ]
  },
  {
   "cell_type": "code",
   "execution_count": null,
   "metadata": {
    "attributes": {
     "classes": [
      "C++"
     ],
     "id": ""
    }
   },
   "outputs": [],
   "source": [
    "// Given an image file name, read in the data, try to decode it as an image,\n",
    "// resize it to the requested size, and then scale the values as desired.\n",
    "Status ReadTensorFromImageFile(string file_name, const int input_height,\n",
    "                               const int input_width, const float input_mean,\n",
    "                               const float input_std,\n",
    "                               std::vector<Tensor>* out_tensors) {\n",
    "  tensorflow::GraphDefBuilder b;"
   ]
  },
  {
   "cell_type": "markdown",
   "metadata": {},
   "source": [
    "We start by creating a `GraphDefBuilder`, which is an object we can use to\n",
    "specify a model to run or load."
   ]
  },
  {
   "cell_type": "code",
   "execution_count": null,
   "metadata": {
    "attributes": {
     "classes": [
      "C++"
     ],
     "id": ""
    }
   },
   "outputs": [],
   "source": [
    "  string input_name = \"file_reader\";\n",
    "  string output_name = \"normalized\";\n",
    "  tensorflow::Node* file_reader =\n",
    "      tensorflow::ops::ReadFile(tensorflow::ops::Const(file_name, b.opts()),\n",
    "                                b.opts().WithName(input_name));"
   ]
  },
  {
   "cell_type": "markdown",
   "metadata": {},
   "source": [
    "We then start creating nodes for the small model we want to run\n",
    "to load, resize, and scale the pixel values to get the result the main model\n",
    "expects as its input. The first node we create is just a `Const` op that holds a\n",
    "tensor with the file name of the image we want to load. That's then passed as the\n",
    "first input to the `ReadFile` op. You might notice we're passing `b.opts()` as the last\n",
    "argument to all the op creation functions. The argument ensures that the node is added to\n",
    "the model definition held in the `GraphDefBuilder`. We also name the `ReadFile`\n",
    "operator by making the `WithName()` call to `b.opts()`. This gives a name to the node,\n",
    "which isn't strictly necessary since an automatic name will be assigned if you don't\n",
    "do this, but it does make debugging a bit easier."
   ]
  },
  {
   "cell_type": "code",
   "execution_count": null,
   "metadata": {
    "attributes": {
     "classes": [
      "C++"
     ],
     "id": ""
    }
   },
   "outputs": [],
   "source": [
    "  // Now try to figure out what kind of file it is and decode it.\n",
    "  const int wanted_channels = 3;\n",
    "  tensorflow::Node* image_reader;\n",
    "  if (tensorflow::StringPiece(file_name).ends_with(\".png\")) {\n",
    "    image_reader = tensorflow::ops::DecodePng(\n",
    "        file_reader,\n",
    "        b.opts().WithAttr(\"channels\", wanted_channels).WithName(\"png_reader\"));\n",
    "  } else {\n",
    "    // Assume if it's not a PNG then it must be a JPEG.\n",
    "    image_reader = tensorflow::ops::DecodeJpeg(\n",
    "        file_reader,\n",
    "        b.opts().WithAttr(\"channels\", wanted_channels).WithName(\"jpeg_reader\"));\n",
    "  }\n",
    "  // Now cast the image data to float so we can do normal math on it.\n",
    "  tensorflow::Node* float_caster = tensorflow::ops::Cast(\n",
    "      image_reader, tensorflow::DT_FLOAT, b.opts().WithName(\"float_caster\"));\n",
    "  // The convention for image ops in TensorFlow is that all images are expected\n",
    "  // to be in batches, so that they're four-dimensional arrays with indices of\n",
    "  // [batch, height, width, channel]. Because we only have a single image, we\n",
    "  // have to add a batch dimension of 1 to the start with ExpandDims().\n",
    "  tensorflow::Node* dims_expander = tensorflow::ops::ExpandDims(\n",
    "      float_caster, tensorflow::ops::Const(0, b.opts()), b.opts());\n",
    "  // Bilinearly resize the image to fit the required dimensions.\n",
    "  tensorflow::Node* resized = tensorflow::ops::ResizeBilinear(\n",
    "      dims_expander, tensorflow::ops::Const({input_height, input_width},\n",
    "                                            b.opts().WithName(\"size\")),\n",
    "      b.opts());\n",
    "  // Subtract the mean and divide by the scale.\n",
    "  tensorflow::ops::Div(\n",
    "      tensorflow::ops::Sub(\n",
    "          resized, tensorflow::ops::Const({input_mean}, b.opts()), b.opts()),\n",
    "      tensorflow::ops::Const({input_std}, b.opts()),\n",
    "      b.opts().WithName(output_name));"
   ]
  },
  {
   "cell_type": "markdown",
   "metadata": {},
   "source": [
    "We then keep adding more nodes, to decode the file data as an image, to cast the\n",
    "integers into floating point values, to resize it, and then finally to run the\n",
    "subtraction and division operations on the pixel values."
   ]
  },
  {
   "cell_type": "code",
   "execution_count": null,
   "metadata": {
    "attributes": {
     "classes": [
      "C++"
     ],
     "id": ""
    }
   },
   "outputs": [],
   "source": [
    "  // This runs the GraphDef network definition that we've just constructed, and\n",
    "  // returns the results in the output tensor.\n",
    "  tensorflow::GraphDef graph;\n",
    "  TF_RETURN_IF_ERROR(b.ToGraphDef(&graph));"
   ]
  },
  {
   "cell_type": "markdown",
   "metadata": {},
   "source": [
    "At the end of this we have\n",
    "a model definition stored in the b variable, which we turn into a full graph\n",
    "definition with the `ToGraphDef()` function."
   ]
  },
  {
   "cell_type": "code",
   "execution_count": null,
   "metadata": {
    "attributes": {
     "classes": [
      "C++"
     ],
     "id": ""
    }
   },
   "outputs": [],
   "source": [
    "  std::unique_ptr<tensorflow::Session> session(\n",
    "      tensorflow::NewSession(tensorflow::SessionOptions()));\n",
    "  TF_RETURN_IF_ERROR(session->Create(graph));\n",
    "  TF_RETURN_IF_ERROR(session->Run({}, {output_name}, {}, out_tensors));\n",
    "  return Status::OK();"
   ]
  },
  {
   "cell_type": "markdown",
   "metadata": {},
   "source": [
    "Then we create a [`Session`](http://www.tensorflow.org/versions/master/api_docs/cc/ClassSession.html#class-tensorflow-session) \n",
    "object, which is the interface to actually running the graph, and run it, \n",
    "specifying which node we want to get the output from, and where to put the\n",
    "output data.\n",
    "\n",
    "This gives us a vector of `Tensor` objects, which in this case we know will only be a\n",
    "single object long. You can think of a `Tensor` as a multi-dimensional array in this\n",
    "context, and it holds a 299 pixel high, 299 pixel width, 3 channel image as float\n",
    "values. If you have your own image-processing framework in your product already, you\n",
    "should be able to use that instead, as long as you apply the same transformations\n",
    "before you feed images into the main graph.\n",
    "\n",
    "This is a simple example of creating a small TensorFlow graph dynamically in C++,\n",
    "but for the pre-trained Inception model we want to load a much larger definition from\n",
    "a file. You can see how we do that in the `LoadGraph()` function."
   ]
  },
  {
   "cell_type": "code",
   "execution_count": null,
   "metadata": {
    "attributes": {
     "classes": [
      "C++"
     ],
     "id": ""
    }
   },
   "outputs": [],
   "source": [
    "// Reads a model graph definition from disk, and creates a session object you\n",
    "// can use to run it.\n",
    "Status LoadGraph(string graph_file_name,\n",
    "                 std::unique_ptr<tensorflow::Session>* session) {\n",
    "  tensorflow::GraphDef graph_def;\n",
    "  Status load_graph_status =\n",
    "      ReadBinaryProto(tensorflow::Env::Default(), graph_file_name, &graph_def);\n",
    "  if (!load_graph_status.ok()) {\n",
    "    return tensorflow::errors::NotFound(\"Failed to load compute graph at '\",\n",
    "                                        graph_file_name, \"'\");\n",
    "  }"
   ]
  },
  {
   "cell_type": "markdown",
   "metadata": {},
   "source": [
    "If you've looked through the image loading code, a lot of the terms should seem familiar. Rather than\n",
    "using a `GraphDefBuilder` to produce a `GraphDef` object, we load a protobuf file that\n",
    "directly contains the `GraphDef`."
   ]
  },
  {
   "cell_type": "code",
   "execution_count": null,
   "metadata": {
    "attributes": {
     "classes": [
      "C++"
     ],
     "id": ""
    }
   },
   "outputs": [],
   "source": [
    "  session->reset(tensorflow::NewSession(tensorflow::SessionOptions()));\n",
    "  Status session_create_status = (*session)->Create(graph_def);\n",
    "  if (!session_create_status.ok()) {\n",
    "    return session_create_status;\n",
    "  }\n",
    "  return Status::OK();\n",
    "}"
   ]
  },
  {
   "cell_type": "markdown",
   "metadata": {},
   "source": [
    "Then we create a Session object from that `GraphDef` and\n",
    "pass it back to the caller so that they can run it at a later time.\n",
    "\n",
    "The `GetTopLabels()` function is a lot like the image loading, except that in this case\n",
    "we want to take the results of running the main graph, and turn it into a sorted list\n",
    "of the highest-scoring labels. Just like the image loader, it creates a\n",
    "`GraphDefBuilder`, adds a couple of nodes to it, and then runs the short graph to get a\n",
    "pair of output tensors. In this case they represent the sorted scores and index\n",
    "positions of the highest results."
   ]
  },
  {
   "cell_type": "code",
   "execution_count": null,
   "metadata": {
    "attributes": {
     "classes": [
      "C++"
     ],
     "id": ""
    }
   },
   "outputs": [],
   "source": [
    "// Analyzes the output of the Inception graph to retrieve the highest scores and\n",
    "// their positions in the tensor, which correspond to categories.\n",
    "Status GetTopLabels(const std::vector<Tensor>& outputs, int how_many_labels,\n",
    "                    Tensor* indices, Tensor* scores) {\n",
    "  tensorflow::GraphDefBuilder b;\n",
    "  string output_name = \"top_k\";\n",
    "  tensorflow::ops::TopK(tensorflow::ops::Const(outputs[0], b.opts()),\n",
    "                        how_many_labels, b.opts().WithName(output_name));\n",
    "  // This runs the GraphDef network definition that we've just constructed, and\n",
    "  // returns the results in the output tensors.\n",
    "  tensorflow::GraphDef graph;\n",
    "  TF_RETURN_IF_ERROR(b.ToGraphDef(&graph));\n",
    "  std::unique_ptr<tensorflow::Session> session(\n",
    "      tensorflow::NewSession(tensorflow::SessionOptions()));\n",
    "  TF_RETURN_IF_ERROR(session->Create(graph));\n",
    "  // The TopK node returns two outputs, the scores and their original indices,\n",
    "  // so we have to append :0 and :1 to specify them both.\n",
    "  std::vector<Tensor> out_tensors;\n",
    "  TF_RETURN_IF_ERROR(session->Run({}, {output_name + \":0\", output_name + \":1\"},\n",
    "                                  {}, &out_tensors));\n",
    "  *scores = out_tensors[0];\n",
    "  *indices = out_tensors[1];\n",
    "  return Status::OK();"
   ]
  },
  {
   "cell_type": "markdown",
   "metadata": {},
   "source": [
    "The `PrintTopLabels()` function takes those sorted results, and prints them out in a\n",
    "friendly way. The `CheckTopLabel()` function is very similar, but just makes sure that\n",
    "the top label is the one we expect, for debugging purposes.\n",
    "\n",
    "At the end, [`main()`](https://github.com/tensorflow/tensorflow/blob/master/tensorflow/examples/label_image/main.cc#L252)\n",
    "ties together all of these calls."
   ]
  },
  {
   "cell_type": "code",
   "execution_count": null,
   "metadata": {
    "attributes": {
     "classes": [
      "C++"
     ],
     "id": ""
    }
   },
   "outputs": [],
   "source": [
    "int main(int argc, char* argv[]) {\n",
    "  // We need to call this to set up global state for TensorFlow.\n",
    "  tensorflow::port::InitMain(argv[0], &argc, &argv);\n",
    "  Status s = tensorflow::ParseCommandLineFlags(&argc, argv);\n",
    "  if (!s.ok()) {\n",
    "    LOG(ERROR) << \"Error parsing command line flags: \" << s.ToString();\n",
    "    return -1;\n",
    "  }\n",
    "\n",
    "  // First we load and initialize the model.\n",
    "  std::unique_ptr<tensorflow::Session> session;\n",
    "  string graph_path = tensorflow::io::JoinPath(FLAGS_root_dir, FLAGS_graph);\n",
    "  Status load_graph_status = LoadGraph(graph_path, &session);\n",
    "  if (!load_graph_status.ok()) {\n",
    "    LOG(ERROR) << load_graph_status;\n",
    "    return -1;\n",
    "  }"
   ]
  },
  {
   "cell_type": "markdown",
   "metadata": {},
   "source": [
    "We load the main graph."
   ]
  },
  {
   "cell_type": "code",
   "execution_count": null,
   "metadata": {
    "attributes": {
     "classes": [
      "C++"
     ],
     "id": ""
    }
   },
   "outputs": [],
   "source": [
    "  // Get the image from disk as a float array of numbers, resized and normalized\n",
    "  // to the specifications the main graph expects.\n",
    "  std::vector<Tensor> resized_tensors;\n",
    "  string image_path = tensorflow::io::JoinPath(FLAGS_root_dir, FLAGS_image);\n",
    "  Status read_tensor_status = ReadTensorFromImageFile(\n",
    "      image_path, FLAGS_input_height, FLAGS_input_width, FLAGS_input_mean,\n",
    "      FLAGS_input_std, &resized_tensors);\n",
    "  if (!read_tensor_status.ok()) {\n",
    "    LOG(ERROR) << read_tensor_status;\n",
    "    return -1;\n",
    "  }\n",
    "  const Tensor& resized_tensor = resized_tensors[0];"
   ]
  },
  {
   "cell_type": "markdown",
   "metadata": {},
   "source": [
    "Load, resize, and process the input image."
   ]
  },
  {
   "cell_type": "code",
   "execution_count": null,
   "metadata": {
    "attributes": {
     "classes": [
      "C++"
     ],
     "id": ""
    }
   },
   "outputs": [],
   "source": [
    "  // Actually run the image through the model.\n",
    "  std::vector<Tensor> outputs;\n",
    "  Status run_status = session->Run({{FLAGS_input_layer, resized_tensor}},\n",
    "                                   {FLAGS_output_layer}, {}, &outputs);\n",
    "  if (!run_status.ok()) {\n",
    "    LOG(ERROR) << \"Running model failed: \" << run_status;\n",
    "    return -1;\n",
    "  }"
   ]
  },
  {
   "cell_type": "markdown",
   "metadata": {},
   "source": [
    "Here we run the loaded graph with the image as an input."
   ]
  },
  {
   "cell_type": "code",
   "execution_count": null,
   "metadata": {
    "attributes": {
     "classes": [
      "C++"
     ],
     "id": ""
    }
   },
   "outputs": [],
   "source": [
    "  // This is for automated testing to make sure we get the expected result with\n",
    "  // the default settings. We know that label 866 (military uniform) should be\n",
    "  // the top label for the Admiral Hopper image.\n",
    "  if (FLAGS_self_test) {\n",
    "    bool expected_matches;\n",
    "    Status check_status = CheckTopLabel(outputs, 866, &expected_matches);\n",
    "    if (!check_status.ok()) {\n",
    "      LOG(ERROR) << \"Running check failed: \" << check_status;\n",
    "      return -1;\n",
    "    }\n",
    "    if (!expected_matches) {\n",
    "      LOG(ERROR) << \"Self-test failed!\";\n",
    "      return -1;\n",
    "    }\n",
    "  }"
   ]
  },
  {
   "cell_type": "markdown",
   "metadata": {},
   "source": [
    "For testing purposes we can check to make sure we get the output we expect here."
   ]
  },
  {
   "cell_type": "code",
   "execution_count": null,
   "metadata": {
    "attributes": {
     "classes": [
      "C++"
     ],
     "id": ""
    }
   },
   "outputs": [],
   "source": [
    "  // Do something interesting with the results we've generated.\n",
    "  Status print_status = PrintTopLabels(outputs, FLAGS_labels);"
   ]
  },
  {
   "cell_type": "markdown",
   "metadata": {},
   "source": [
    "Finally we print the labels we found."
   ]
  },
  {
   "cell_type": "code",
   "execution_count": null,
   "metadata": {
    "attributes": {
     "classes": [
      "C++"
     ],
     "id": ""
    }
   },
   "outputs": [],
   "source": [
    "  if (!print_status.ok()) {\n",
    "    LOG(ERROR) << \"Running print failed: \" << print_status;\n",
    "    return -1;\n",
    "  }"
   ]
  },
  {
   "cell_type": "markdown",
   "metadata": {},
   "source": [
    "The error handling here is using TensorFlow's `Status`\n",
    "object, which is very convenient because it lets you know whether any error has\n",
    "occurred with the `ok()` checker, and then can be printed out to give a readable error\n",
    "message.\n",
    "\n",
    "In this case we are demonstrating object recognition, but you should be able to\n",
    "use very similar code on other models you've found or trained yourself, across\n",
    "all\n",
    "sorts of domains. We hope this small example gives you some ideas on how to use\n",
    "TensorFlow within your own products.\n",
    "\n",
    "> **EXERCISE**: Transfer learning is the idea that, if you know how to solve a task well, you\n",
    "should be able to transfer some of that understanding to solving related\n",
    "problems.  One way to perform transfer learning is to remove the final\n",
    "classification layer of the network and extract \n",
    "the [next-to-last layer of the CNN](http://arxiv.org/abs/1310.1531), in this case a 2048 dimensional vector.\n",
    "One can specify\n",
    "this by setting `--output_layer=pool_3` in the [C++ API example](#usage-with-the-c-api)\n",
    "and then\n",
    "changing the output tensor handling. Try extracting this feature on a set of images\n",
    "and see if you can predict new categories not in ImageNet.\n",
    "\n",
    "\n",
    "## Resources for Learning More\n",
    "\n",
    "To learn about neural networks in general, Michael Nielsen's\n",
    "[free online book](http://neuralnetworksanddeeplearning.com/chap1.html)\n",
    "is an excellent resource. For convolutional neural networks in particular,\n",
    "Chris Olah has some\n",
    "[nice blog posts](http://colah.github.io/posts/2014-07-Conv-Nets-Modular/),\n",
    "and Michael Nielsen's book has a\n",
    "[great chapter](http://neuralnetworksanddeeplearning.com/chap6.html)\n",
    "covering them.\n",
    "\n",
    "To find out more about implementing convolutional neural networks, you can jump to\n",
    "the TensorFlow [deep convolutional networks tutorial](http://www.tensorflow.org/tutorials/deep_cnn/index.html),\n",
    "or start a bit more gently with our\n",
    "[ML beginner](http://www.tensorflow.org/tutorials/mnist/beginners/index.html)\n",
    "or [ML expert](http://www.tensorflow.org/tutorials/mnist/pros/index.html)\n",
    "MNIST starter tutorials. Finally, if you want to get up to speed on research\n",
    "in this area, you can\n",
    "read the recent work of all the papers referenced in this tutorial."
   ]
  }
 ],
 "metadata": {},
 "nbformat": 4,
 "nbformat_minor": 0
}
