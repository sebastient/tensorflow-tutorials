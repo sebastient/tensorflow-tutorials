{
 "cells": [
  {
   "cell_type": "markdown",
   "metadata": {},
   "source": [
    "# MNIST For ML Beginners\n",
    "\n",
    "*This tutorial is intended for readers who are new to both machine learning and\n",
    "TensorFlow. If you already\n",
    "know what MNIST is, and what softmax (multinomial logistic) regression is,\n",
    "you might prefer this [faster paced tutorial](../pros/index.ipynb).\n",
    "Be sure to [install TensorFlow](../../../get_started/os_setup.ipynb) before\n",
    "starting either tutorial.*\n",
    "\n",
    "When one learns how to program, there's a tradition that the first thing you do\n",
    "is print \"Hello World.\" Just like programming has Hello World, machine learning\n",
    "has MNIST.\n",
    "\n",
    "MNIST is a simple computer vision dataset. It consists of images of handwritten\n",
    "digits like these:\n",
    "\n",
    "<div style=\"width:40%; margin:auto; margin-bottom:10px; margin-top:20px;\">\n",
    "<img style=\"width:100%\" src=\"images/MNIST.png\">\n",
    "</div>\n",
    "\n",
    "It also includes labels for each image, telling us which digit it is. For\n",
    "example, the labels for the above images are 5, 0, 4, and 1.\n",
    "\n",
    "In this tutorial, we're going to train a model to look at images and predict\n",
    "what digits they are. Our goal isn't to train a really elaborate model that\n",
    "achieves state-of-the-art performance -- although we'll give you code to do that\n",
    "later! -- but rather to dip a toe into using TensorFlow. As such, we're going\n",
    "to start with a very simple model, called a Softmax Regression.\n",
    "\n",
    "The actual code for this tutorial is very short, and all the interesting\n",
    "stuff happens in just three lines. However, it is very\n",
    "important to understand the ideas behind it: both how TensorFlow works and the\n",
    "core machine learning concepts. Because of this, we are going to very carefully\n",
    "work through the code.\n",
    "\n",
    "## The MNIST Data\n",
    "\n",
    "The MNIST data is hosted on\n",
    "[Yann LeCun's website](http://yann.lecun.com/exdb/mnist/).  For your\n",
    "convenience, we've included some python code to download and install the data\n",
    "automatically. You can either download\n",
    "[the code](https://tensorflow.googlesource.com/tensorflow/+/master/tensorflow/examples/tutorials/mnist/input_data.py)\n",
    "and import it as below, or simply copy and paste it in."
   ]
  },
  {
   "cell_type": "code",
   "execution_count": null,
   "metadata": {},
   "outputs": [],
   "source": [
    "from tensorflow.examples.tutorials.mnist import input_data\n",
    "mnist = input_data.read_data_sets(\"MNIST_data/\", one_hot=True)"
   ]
  },
  {
   "cell_type": "markdown",
   "metadata": {},
   "source": [
    "The downloaded data is split into three parts, 55,000 data points of training\n",
    "data (`mnist.train`), 10,000 points of test data (`mnist.test`), and 5,000\n",
    "points of validation data (`mnist.validation`). This split is very important:\n",
    "it's essential in machine learning that we have separate data which we don't\n",
    "learn from so that we can make sure that what we've learned actually\n",
    "generalizes!\n",
    "\n",
    "As mentioned earlier, every MNIST data point has two parts: an image of a\n",
    "handwritten digit and a corresponding label. We will call the images \"xs\" and\n",
    "the labels \"ys\". Both the training set and test set contain xs and ys, for\n",
    "example the training images are `mnist.train.images` and the train labels are\n",
    "`mnist.train.labels`.\n",
    "\n",
    "Each image is 28 pixels by 28 pixels. We can interpret this as a big array of\n",
    "numbers:\n",
    "\n",
    "<div style=\"width:50%; margin:auto; margin-bottom:10px; margin-top:20px;\">\n",
    "<img style=\"width:100%\" src=\"images/MNIST-Matrix.png\">\n",
    "</div>\n",
    "\n",
    "We can flatten this array into a vector of 28x28 = 784 numbers. It doesn't\n",
    "matter how we flatten the array, as long as we're consistent between images.\n",
    "From this perspective, the MNIST images are just a bunch of points in a\n",
    "784-dimensional vector space, with a\n",
    "[very rich structure](http://colah.github.io/posts/2014-10-Visualizing-MNIST/)\n",
    "(warning: computationally intensive visualizations).\n",
    "\n",
    "Flattening the data throws away information about the 2D structure of the image.\n",
    "Isn't that bad? Well, the best computer vision methods do exploit this\n",
    "structure, and we will in later tutorials. But the simple method we will be\n",
    "using here, a softmax regression, won't.\n",
    "\n",
    "The result is that `mnist.train.images` is a tensor (an n-dimensional array)\n",
    "with a shape of `[55000, 784]`. The first dimension indexes the images and the\n",
    "second dimension indexes the pixels in each image. Each entry in the tensor is\n",
    "the pixel intensity between 0 and 1, for a particular pixel in a particular\n",
    "image.\n",
    "\n",
    "<div style=\"width:40%; margin:auto; margin-bottom:10px; margin-top:20px;\">\n",
    "<img style=\"width:100%\" src=\"images/mnist-train-xs.png\">\n",
    "</div>\n",
    "\n",
    "The corresponding labels in MNIST are numbers between 0 and 9, describing\n",
    "which digit a given image is of.\n",
    "For the purposes of this tutorial, we're going to want our labels\n",
    "as \"one-hot vectors\". A one-hot vector is a vector which is 0 in most\n",
    "dimensions, and 1 in a single dimension. In this case, the \\\\(n\\\\)th digit will\n",
    "be represented as a vector which is 1 in the \\\\(n\\\\)th dimensions. For example,\n",
    "3 would be \\\\([0,0,0,1,0,0,0,0,0,0]\\\\).\n",
    "Consequently, `mnist.train.labels` is a\n",
    "`[55000, 10]` array of floats.\n",
    "\n",
    "<div style=\"width:40%; margin:auto; margin-bottom:10px; margin-top:20px;\">\n",
    "<img style=\"width:100%\" src=\"images/mnist-train-ys.png\">\n",
    "</div>\n",
    "\n",
    "We're now ready to actually make our model!\n",
    "\n",
    "## Softmax Regressions\n",
    "\n",
    "We know that every image in MNIST is a digit, whether it's a zero or a nine. We\n",
    "want to be able to look at an image and give probabilities for it being each\n",
    "digit. For example, our model might look at a picture of a nine and be 80% sure\n",
    "it's a nine, but give a 5% chance to it being an eight (because of the top loop)\n",
    "and a bit of probability to all the others because it isn't sure.\n",
    "\n",
    "This is a classic case where a softmax regression is a natural, simple model.\n",
    "If you want to assign probabilities to an object being one of several different\n",
    "things, softmax is the thing to do. Even later on, when we train more\n",
    "sophisticated models, the final step will be a layer of softmax.\n",
    "\n",
    "A softmax regression has two steps: first we add up the evidence of our input\n",
    "being in certain classes, and then we convert that evidence into probabilities.\n",
    "\n",
    "To tally up the evidence that a given image is in a particular class, we do a\n",
    "weighted sum of the pixel intensities. The weight is negative if that pixel\n",
    "having a high intensity is evidence against the image being in that class,\n",
    "and positive if it is evidence in favor.\n",
    "\n",
    "The following diagram shows the weights one model learned for each of these\n",
    "classes. Red represents negative weights, while blue represents positive\n",
    "weights.\n",
    "\n",
    "<div style=\"width:40%; margin:auto; margin-bottom:10px; margin-top:20px;\">\n",
    "<img style=\"width:100%\" src=\"images/softmax-weights.png\">\n",
    "</div>\n",
    "\n",
    "We also add some extra evidence called a bias. Basically, we want to be able\n",
    "to say that some things are more likely independent of the input. The result is\n",
    "that the evidence for a class \\\\(i\\\\) given an input \\\\(x\\\\) is:\n",
    "\n",
    "$$\\text{evidence}_i = \\sum_j W_{i,~ j} x_j + b_i$$\n",
    "\n",
    "where \\\\(W_i\\\\) is the weights and \\\\(b_i\\\\) is the bias for class \\\\(i\\\\),\n",
    "and \\\\(j\\\\) is an index for summing over the pixels in our input image \\\\(x\\\\).\n",
    "We then convert the evidence tallies into our predicted probabilities\n",
    "\\\\(y\\\\) using the \"softmax\" function:\n",
    "\n",
    "$$y = \\text{softmax}(\\text{evidence})$$\n",
    "\n",
    "Here softmax is serving as an \"activation\" or \"link\" function, shaping\n",
    "the output of our linear function into the form we want -- in this case, a\n",
    "probability distribution over 10 cases.\n",
    "You can think of it as converting tallies\n",
    "of evidence into probabilities of our input being in each class.\n",
    "It's defined as:\n",
    "\n",
    "$$\\text{softmax}(x) = \\text{normalize}(\\exp(x))$$\n",
    "\n",
    "If you expand that equation out, you get:\n",
    "\n",
    "$$\\text{softmax}(x)_i = \\frac{\\exp(x_i)}{\\sum_j \\exp(x_j)}$$\n",
    "\n",
    "But it's often more helpful to think of softmax the first way:\n",
    "exponentiating its inputs and then normalizing them.\n",
    "The exponentiation means that one more unit of evidence increases the weight\n",
    "given to any hypothesis multiplicatively.\n",
    "And conversely, having one less unit of evidence means that a\n",
    "hypothesis gets a fraction of its earlier weight. No hypothesis ever has zero\n",
    "or negative weight. Softmax then normalizes these weights, so that they add up\n",
    "to one, forming a valid probability distribution. (To get more intuition about\n",
    "the softmax function, check out the\n",
    "[section](http://neuralnetworksanddeeplearning.com/chap3.html#softmax)\n",
    "on it in Michael Nieslen's book, complete with an interactive visualization.)\n",
    "\n",
    "\n",
    "You can picture our softmax regression as looking something like the following,\n",
    "although with a lot more \\\\(x\\\\)s. For each output, we compute a weighted sum of\n",
    "the \\\\(x\\\\)s, add a bias, and then apply softmax.\n",
    "\n",
    "<div style=\"width:55%; margin:auto; margin-bottom:10px; margin-top:20px;\">\n",
    "<img style=\"width:100%\" src=\"images/softmax-regression-scalargraph.png\">\n",
    "</div>\n",
    "\n",
    "If we write that out as equations, we get:\n",
    "\n",
    "<div style=\"width:52%; margin-left:25%; margin-bottom:10px; margin-top:20px;\">\n",
    "<img style=\"width:100%\" src=\"images/softmax-regression-scalarequation.png\">\n",
    "</div>\n",
    "\n",
    "We can \"vectorize\" this procedure, turning it into a matrix multiplication\n",
    "and vector addition. This is helpful for computational efficiency. (It's also\n",
    "a useful way to think.)\n",
    "\n",
    "<div style=\"width:50%; margin:auto; margin-bottom:10px; margin-top:20px;\">\n",
    "<img style=\"width:100%\" src=\"images/softmax-regression-vectorequation.png\">\n",
    "</div>\n",
    "\n",
    "More compactly, we can just write:\n",
    "\n",
    "$$y = \\text{softmax}(Wx + b)$$\n",
    "\n",
    "\n",
    "## Implementing the Regression\n",
    "\n",
    "\n",
    "To do efficient numerical computing in Python, we typically use libraries like\n",
    "NumPy that do expensive operations such as matrix multiplication outside Python,\n",
    "using highly efficient code implemented in another language.\n",
    "Unfortunately, there can still be a lot of overhead from switching back to\n",
    "Python every operation. This overhead is especially bad if you want to run\n",
    "computations on GPUs or in a distributed manner, where there can be a high cost\n",
    "to transferring data.\n",
    "\n",
    "TensorFlow also does its heavy lifting outside python,\n",
    "but it takes things a step further to avoid this overhead.\n",
    "Instead of running a single expensive operation independently\n",
    "from Python, TensorFlow lets us describe a graph of interacting operations that\n",
    "run entirely outside Python. (Approaches like this can be seen in a few\n",
    "machine learning libraries.)\n",
    "\n",
    "To use TensorFlow, we need to import it."
   ]
  },
  {
   "cell_type": "code",
   "execution_count": null,
   "metadata": {},
   "outputs": [],
   "source": [
    "import tensorflow as tf"
   ]
  },
  {
   "cell_type": "markdown",
   "metadata": {},
   "source": [
    "We describe these interacting operations by manipulating symbolic variables.\n",
    "Let's create one:"
   ]
  },
  {
   "cell_type": "code",
   "execution_count": null,
   "metadata": {},
   "outputs": [],
   "source": [
    "x = tf.placeholder(tf.float32, [None, 784])"
   ]
  },
  {
   "cell_type": "markdown",
   "metadata": {},
   "source": [
    "`x` isn't a specific value. It's a `placeholder`, a value that we'll input when\n",
    "we ask TensorFlow to run a computation. We want to be able to input any number\n",
    "of MNIST images, each flattened into a 784-dimensional vector. We represent\n",
    "this as a 2-D tensor of floating-point numbers, with a shape `[None, 784]`.\n",
    "(Here `None` means that a dimension can be of any length.)\n",
    "\n",
    "We also need the weights and biases for our model. We could imagine treating\n",
    "these like additional inputs, but TensorFlow has an even better way to handle\n",
    "it: `Variable`.\n",
    "A `Variable` is a modifiable tensor that lives in TensorFlow's graph of\n",
    "interacting\n",
    "operations. It can be used and even modified by the computation. For machine\n",
    "learning applications, one generally has the model parameters be `Variable`s."
   ]
  },
  {
   "cell_type": "code",
   "execution_count": null,
   "metadata": {},
   "outputs": [],
   "source": [
    "W = tf.Variable(tf.zeros([784, 10]))\n",
    "b = tf.Variable(tf.zeros([10]))"
   ]
  },
  {
   "cell_type": "markdown",
   "metadata": {},
   "source": [
    "We create these `Variable`s by giving `tf.Variable` the initial value of the\n",
    "`Variable`: in this case, we initialize both `W` and `b` as tensors full of\n",
    "zeros. Since we are going to learn `W` and `b`, it doesn't matter very much\n",
    "what they initially are.\n",
    "\n",
    "Notice that `W` has a shape of [784, 10] because we want to multiply the\n",
    "784-dimensional image vectors by it to produce 10-dimensional vectors of\n",
    "evidence for the difference classes. `b` has a shape of [10] so we can add it\n",
    "to the output.\n",
    "\n",
    "We can now implement our model. It only takes one line!"
   ]
  },
  {
   "cell_type": "code",
   "execution_count": null,
   "metadata": {},
   "outputs": [],
   "source": [
    "y = tf.nn.softmax(tf.matmul(x, W) + b)"
   ]
  },
  {
   "cell_type": "markdown",
   "metadata": {},
   "source": [
    "First, we multiply `x` by `W` with the expression `tf.matmul(x, W)`. This is\n",
    "flipped from when we multiplied them in our equation, where we had \\\\(Wx\\\\), as a\n",
    "small trick\n",
    "to deal with `x` being a 2D tensor with multiple inputs. We then add `b`, and\n",
    "finally apply `tf.nn.softmax`.\n",
    "\n",
    "That's it. It only took us one line to define our model, after a couple short\n",
    "lines of setup. That isn't because TensorFlow is designed to make a softmax\n",
    "regression particularly easy: it's just a very flexible way to describe many\n",
    "kinds of numerical computations, from machine learning models to physics\n",
    "simulations. And once defined, our model can be run on different devices:\n",
    "your computer's CPU, GPUs, and even phones!\n",
    "\n",
    "\n",
    "## Training\n",
    "\n",
    "In order to train our model, we need to define what it means for the  model to\n",
    "be good. Well, actually, in machine learning we typically define what it means\n",
    "for a model to be bad, called the cost or loss, and then try to minimize how bad\n",
    "it is. But the two are equivalent.\n",
    "\n",
    "One very common, very nice cost function is \"cross-entropy.\" Surprisingly,\n",
    "cross-entropy arises from thinking about information compressing codes in\n",
    "information theory but it winds up being an important idea in lots of areas,\n",
    "from gambling to machine learning. It's defined:\n",
    "\n",
    "$$H_{y'}(y) = -\\sum_i y'_i \\log(y_i)$$\n",
    "\n",
    "Where \\\\(y\\\\) is our predicted probability distribution, and \\\\(y'\\\\) is the true\n",
    "distribution (the one-hot vector we'll input).  In some rough sense, the\n",
    "cross-entropy is measuring how inefficient our predictions are for describing\n",
    "the truth. Going into more detail about cross-entropy is beyond the scope of\n",
    "this tutorial, but it's well worth\n",
    "[understanding](http://colah.github.io/posts/2015-09-Visual-Information/).\n",
    "\n",
    "To implement cross-entropy we need to first add a new placeholder to input\n",
    "the correct answers:"
   ]
  },
  {
   "cell_type": "code",
   "execution_count": null,
   "metadata": {},
   "outputs": [],
   "source": [
    "y_ = tf.placeholder(tf.float32, [None, 10])"
   ]
  },
  {
   "cell_type": "markdown",
   "metadata": {},
   "source": [
    "Then we can implement the cross-entropy, \\\\(-\\sum y'\\log(y)\\\\):"
   ]
  },
  {
   "cell_type": "code",
   "execution_count": null,
   "metadata": {},
   "outputs": [],
   "source": [
    "cross_entropy = -tf.reduce_sum(y_*tf.log(y))"
   ]
  },
  {
   "cell_type": "markdown",
   "metadata": {},
   "source": [
    "First, `tf.log` computes the logarithm of each element of `y`. Next, we multiply\n",
    "each element of `y_` with the corresponding element of `tf.log(y)`. Finally,\n",
    "`tf.reduce_sum` adds all the elements of the tensor. (Note that this isn't\n",
    "just the cross-entropy of the truth with a single prediction, but the sum of the\n",
    "cross-entropies for all 100 images we looked at. How well we are doing on 100\n",
    "data points is a much better description of how good our model is than a single\n",
    "data point.)\n",
    "\n",
    "Now that we know what we want our model to do, it's very easy to have TensorFlow\n",
    "train it to do so.\n",
    "Because TensorFlow knows the entire graph of your computations, it\n",
    "can automatically use the [backpropagation\n",
    "algorithm](http://colah.github.io/posts/2015-08-Backprop/)\n",
    "to efficiently determine how your variables affect the cost you ask it minimize.\n",
    "Then it can apply your choice of optimization algorithm to modify the variables\n",
    "and reduce the cost."
   ]
  },
  {
   "cell_type": "code",
   "execution_count": null,
   "metadata": {},
   "outputs": [],
   "source": [
    "train_step = tf.train.GradientDescentOptimizer(0.01).minimize(cross_entropy)"
   ]
  },
  {
   "cell_type": "markdown",
   "metadata": {},
   "source": [
    "In this case, we ask TensorFlow to minimize `cross_entropy` using the gradient\n",
    "descent algorithm with a learning rate of 0.01. Gradient descent is a simple\n",
    "procedure, where TensorFlow simply shifts each variable a little bit in the\n",
    "direction that reduces the cost. But TensorFlow also provides\n",
    "[many other optimization algorithms]\n",
    "(../../../api_docs/python/train.md#optimizers): using one is as simple as\n",
    "tweaking one line.\n",
    "\n",
    "What TensorFlow actually does here, behind the scenes, is it adds new operations\n",
    "to your graph which\n",
    "implement backpropagation and gradient descent. Then it gives you back a\n",
    "single operation which, when run, will do a step of gradient descent training,\n",
    "slightly tweaking your variables to reduce the cost.\n",
    "\n",
    "Now we have our model set up to train. One last thing before we launch it,\n",
    "we have to add an operation to initialize the variables we created:"
   ]
  },
  {
   "cell_type": "code",
   "execution_count": null,
   "metadata": {},
   "outputs": [],
   "source": [
    "init = tf.initialize_all_variables()"
   ]
  },
  {
   "cell_type": "markdown",
   "metadata": {},
   "source": [
    "We can now launch the model in a `Session`, and run the operation that\n",
    "initializes the variables:"
   ]
  },
  {
   "cell_type": "code",
   "execution_count": null,
   "metadata": {},
   "outputs": [],
   "source": [
    "sess = tf.Session()\n",
    "sess.run(init)"
   ]
  },
  {
   "cell_type": "markdown",
   "metadata": {},
   "source": [
    "Let's train -- we'll run the training step 1000 times!"
   ]
  },
  {
   "cell_type": "code",
   "execution_count": null,
   "metadata": {},
   "outputs": [],
   "source": [
    "for i in range(1000):\n",
    "  batch_xs, batch_ys = mnist.train.next_batch(100)\n",
    "  sess.run(train_step, feed_dict={x: batch_xs, y_: batch_ys})"
   ]
  },
  {
   "cell_type": "markdown",
   "metadata": {},
   "source": [
    "Each step of the loop, we get a \"batch\" of one hundred random data points from\n",
    "our training set. We run `train_step` feeding in the batches data to replace\n",
    "the `placeholder`s.\n",
    "\n",
    "Using small batches of random data is called stochastic training -- in\n",
    "this case, stochastic gradient descent. Ideally, we'd like to use all our data\n",
    "for every step of training because that would give us a better sense of what\n",
    "we should be doing, but that's expensive. So, instead, we use a different subset\n",
    "every time. Doing this is cheap and has much of the same benefit.\n",
    "\n",
    "\n",
    "\n",
    "## Evaluating Our Model\n",
    "\n",
    "How well does our model do?\n",
    "\n",
    "Well, first let's figure out where we predicted the correct label. `tf.argmax`\n",
    "is an extremely useful function which gives you the index of the highest entry\n",
    "in a tensor along some axis. For example, `tf.argmax(y,1)` is the label our\n",
    "model thinks is most likely for each input, while `tf.argmax(y_,1)` is the\n",
    "correct label. We can use `tf.equal` to check if our prediction matches the\n",
    "truth."
   ]
  },
  {
   "cell_type": "code",
   "execution_count": null,
   "metadata": {},
   "outputs": [],
   "source": [
    "correct_prediction = tf.equal(tf.argmax(y,1), tf.argmax(y_,1))"
   ]
  },
  {
   "cell_type": "markdown",
   "metadata": {},
   "source": [
    "That gives us a list of booleans. To determine what fraction are correct, we\n",
    "cast to floating point numbers and then take the mean. For example,\n",
    "`[True, False, True, True]` would become `[1,0,1,1]` which would become `0.75`."
   ]
  },
  {
   "cell_type": "code",
   "execution_count": null,
   "metadata": {},
   "outputs": [],
   "source": [
    "accuracy = tf.reduce_mean(tf.cast(correct_prediction, \"float\"))"
   ]
  },
  {
   "cell_type": "markdown",
   "metadata": {},
   "source": [
    "Finally, we ask for our accuracy on our test data."
   ]
  },
  {
   "cell_type": "code",
   "execution_count": null,
   "metadata": {},
   "outputs": [],
   "source": [
    "print(sess.run(accuracy, feed_dict={x: mnist.test.images, y_: mnist.test.labels}))"
   ]
  },
  {
   "cell_type": "markdown",
   "metadata": {},
   "source": [
    "This should be about 91%.\n",
    "\n",
    "Is that good? Well, not really. In fact, it's pretty bad. This is because we're\n",
    "using a very simple model. With some small changes, we can get to\n",
    "97%. The best models can get to over 99.7% accuracy! (For more information, have\n",
    "a look at this\n",
    "[list of results](http://rodrigob.github.io/are_we_there_yet/build/classification_datasets_results.html).)\n",
    "\n",
    "What matters is that we learned from this model. Still, if you're feeling a bit\n",
    "down about these results, check out [the next tutorial](../../../tutorials/mnist/pros/index.ipynb) where we\n",
    "do a lot better, and learn how to build more sophisticated models using\n",
    "TensorFlow!"
   ]
  }
 ],
 "metadata": {},
 "nbformat": 4,
 "nbformat_minor": 0
}
