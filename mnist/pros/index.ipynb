{
 "cells": [
  {
   "cell_type": "markdown",
   "metadata": {},
   "source": [
    "#  Deep MNIST for Experts\n",
    "\n",
    "TensorFlow is a powerful library for doing large-scale numerical computation.\n",
    "One of the tasks at which it excels is implementing and training deep neural\n",
    "networks.\n",
    "In this tutorial we will learn the basic building blocks of a TensorFlow model\n",
    "while constructing a deep convolutional MNIST classifier.\n",
    "\n",
    "*This introduction assumes familiarity with neural networks and the MNIST\n",
    "dataset. If you don't have\n",
    "a background with them, check out the\n",
    "[introduction for beginners](../beginners/index.ipynb). Be sure to\n",
    "[install TensorFlow](../../../get_started/os_setup.ipynb) before starting.*\n",
    "\n",
    "## Setup\n",
    "\n",
    "Before we create our model, we will first load the MNIST dataset, and start a\n",
    "TensorFlow session.\n",
    "\n",
    "### Load MNIST Data\n",
    "\n",
    "For your convenience, we've included\n",
    "[a script](https://tensorflow.googlesource.com/tensorflow/+/master/tensorflow/examples/tutorials/mnist/input_data.py)\n",
    "which automatically downloads and imports the MNIST dataset. It will create a\n",
    "directory `'MNIST_data'` in which to store the data files."
   ]
  },
  {
   "cell_type": "code",
   "execution_count": null,
   "metadata": {},
   "outputs": [],
   "source": [
    "import input_data\n",
    "mnist = input_data.read_data_sets('MNIST_data', one_hot=True)"
   ]
  },
  {
   "cell_type": "markdown",
   "metadata": {},
   "source": [
    "Here `mnist` is a lightweight class which stores the training, validation, and\n",
    "testing sets as NumPy arrays.\n",
    "It also provides a function for iterating through data minibatches, which we\n",
    "will use below.\n",
    "\n",
    "### Start TensorFlow InteractiveSession\n",
    "\n",
    "Tensorflow relies on a highly efficient C++ backend to do its computation. The\n",
    "connection to this backend is called a session.  The common usage for TensorFlow\n",
    "programs is to first create a graph and then launch it in a session.\n",
    "\n",
    "Here we instead use the convenient `InteractiveSession` class, which\n",
    "makes TensorFlow more flexible about how you\n",
    "structure your code.\n",
    "It allows you to interleave operations which build a\n",
    "[computation graph](../../../get_started/basic_usage.ipynb#the-computation-graph)\n",
    "with ones that run the graph.\n",
    "This is particularly convenient when working in interactive contexts like\n",
    "iPython.\n",
    "If you are not using an `InteractiveSession`, then you should build\n",
    "the entire computation graph before starting a session and [launching the\n",
    "graph](../../../get_started/basic_usage.ipynb#launching-the-graph-in-a-session)."
   ]
  },
  {
   "cell_type": "code",
   "execution_count": null,
   "metadata": {},
   "outputs": [],
   "source": [
    "import tensorflow as tf\n",
    "sess = tf.InteractiveSession()"
   ]
  },
  {
   "cell_type": "markdown",
   "metadata": {},
   "source": [
    "#### Computation Graph\n",
    "\n",
    "To do efficient numerical computing in Python, we typically use libraries like\n",
    "NumPy that do expensive operations such as matrix multiplication outside Python,\n",
    "using highly efficient code implemented in another language.\n",
    "Unfortunately, there can still be a lot of overhead from switching back to\n",
    "Python every operation. This overhead is especially bad if you want to run\n",
    "computations on GPUs or in a distributed manner, where there can be a high cost\n",
    "to transferring data.\n",
    "\n",
    "TensorFlow also does its heavy lifting outside Python,\n",
    "but it takes things a step further to avoid this overhead.\n",
    "Instead of running a single expensive operation independently\n",
    "from Python, TensorFlow lets us describe a graph of interacting operations that\n",
    "run entirely outside Python.\n",
    "This approach is similar to that used in Theano or Torch.\n",
    "\n",
    "The role of the Python code is therefore to build this external computation\n",
    "graph, and to dictate which parts of the computation graph should be run. See\n",
    "the\n",
    "[Computation Graph](../../../get_started/basic_usage.ipynb#the-computation-graph)\n",
    "section of\n",
    "[Basic Usage](../../../get_started/basic_usage.ipynb)\n",
    "for more detail.\n",
    "\n",
    "## Build a Softmax Regression Model\n",
    "\n",
    "In this section we will build a softmax regression model with a single linear\n",
    "layer. In the next section, we will extend this to the case of softmax\n",
    "regression with a multilayer convolutional network.\n",
    "\n",
    "### Placeholders\n",
    "\n",
    "We start building the computation graph by creating nodes for the\n",
    "input images and target output classes."
   ]
  },
  {
   "cell_type": "code",
   "execution_count": null,
   "metadata": {},
   "outputs": [],
   "source": [
    "x = tf.placeholder(\"float\", shape=[None, 784])\n",
    "y_ = tf.placeholder(\"float\", shape=[None, 10])"
   ]
  },
  {
   "cell_type": "markdown",
   "metadata": {},
   "source": [
    "Here `x` and `y_` aren't specific values. Rather, they are each a `placeholder`\n",
    "-- a value that we'll input when we ask TensorFlow to run a computation.\n",
    "\n",
    "The input images `x` will consist of a 2d tensor of floating point numbers.\n",
    "Here we assign it a `shape` of `[None, 784]`, where `784` is the dimensionality of\n",
    "a single flattened MNIST image, and `None` indicates that the first dimension,\n",
    "corresponding to the batch size, can be of any size.\n",
    "The target output classes `y_` will also consist of a 2d tensor,\n",
    "where each row is a one-hot 10-dimensional vector indicating\n",
    "which digit class the corresponding MNIST image belongs to.\n",
    "\n",
    "The `shape` argument to `placeholder` is optional, but it allows TensorFlow\n",
    "to automatically catch bugs stemming from inconsistent tensor shapes.\n",
    "\n",
    "### Variables\n",
    "\n",
    "We now define the weights `W` and biases `b` for our model. We could imagine treating\n",
    "these like additional inputs, but TensorFlow has an even better way to handle\n",
    "them: `Variable`.\n",
    "A `Variable` is a value that lives in TensorFlow's computation graph.\n",
    "It can be used and even modified by the computation. In machine\n",
    "learning applications, one generally has the model paramaters be `Variable`s."
   ]
  },
  {
   "cell_type": "code",
   "execution_count": null,
   "metadata": {},
   "outputs": [],
   "source": [
    "W = tf.Variable(tf.zeros([784,10]))\n",
    "b = tf.Variable(tf.zeros([10]))"
   ]
  },
  {
   "cell_type": "markdown",
   "metadata": {},
   "source": [
    "We pass the initial value for each parameter in the call to `tf.Variable`.\n",
    "In this case, we initialize both `W` and `b` as tensors full of\n",
    "zeros. `W` is a 784x10 matrix (because we have 784 input features\n",
    "and 10 outputs) and `b` is a 10-dimensional vector (because we have 10 classes).\n",
    "\n",
    "Before `Variable`s can be used within a session, they must be initialized using\n",
    "that session.\n",
    "This step takes the initial values (in this case tensors full of zeros) that\n",
    "have already been specified, and assigns them to each `Variable`. This can be\n",
    "done for all `Variables` at once."
   ]
  },
  {
   "cell_type": "code",
   "execution_count": null,
   "metadata": {},
   "outputs": [],
   "source": [
    "sess.run(tf.initialize_all_variables())"
   ]
  },
  {
   "cell_type": "markdown",
   "metadata": {},
   "source": [
    "### Predicted Class and Cost Function\n",
    "\n",
    "We can now implement our regression model. It only takes one line!\n",
    "We multiply the vectorized input images `x` by the weight matrix `W`, add\n",
    "the bias `b`, and compute the softmax probabilities that are assigned to each\n",
    "class."
   ]
  },
  {
   "cell_type": "code",
   "execution_count": null,
   "metadata": {},
   "outputs": [],
   "source": [
    "y = tf.nn.softmax(tf.matmul(x,W) + b)"
   ]
  },
  {
   "cell_type": "markdown",
   "metadata": {},
   "source": [
    "The cost function to be minimized during training can be specified just as\n",
    "easily. Our cost function will be the cross-entropy between the target and the\n",
    "model's prediction."
   ]
  },
  {
   "cell_type": "code",
   "execution_count": null,
   "metadata": {},
   "outputs": [],
   "source": [
    "cross_entropy = -tf.reduce_sum(y_*tf.log(y))"
   ]
  },
  {
   "cell_type": "markdown",
   "metadata": {},
   "source": [
    "Note that `tf.reduce_sum` sums across all images in the minibatch, as well as\n",
    "all classes. We are computing the cross entropy for the entire minibatch.\n",
    "\n",
    "## Train the Model\n",
    "\n",
    "Now that we have defined our model and training cost function, it is\n",
    "straightforward to train using TensorFlow.\n",
    "Because TensorFlow knows the entire computation graph, it\n",
    "can use automatic differentiation to find the gradients of the cost with\n",
    "respect to each of the variables.\n",
    "TensorFlow has a variety of\n",
    "[builtin optimization algorithms]\n",
    "(../../../api_docs/python/train.md#optimizers).\n",
    "For this example, we will use steepest gradient descent, with a step length of\n",
    "0.01, to descend the cross entropy."
   ]
  },
  {
   "cell_type": "code",
   "execution_count": null,
   "metadata": {},
   "outputs": [],
   "source": [
    "train_step = tf.train.GradientDescentOptimizer(0.01).minimize(cross_entropy)"
   ]
  },
  {
   "cell_type": "markdown",
   "metadata": {},
   "source": [
    "What TensorFlow actually did in that single line was to add new operations to\n",
    "the computation graph. These operations included ones to compute gradients,\n",
    "compute parameter update steps, and apply update steps to the parameters.\n",
    "\n",
    "The returned operation `train_step`, when run, will apply the gradient\n",
    "descent updates to the parameters. Training the model can therefore be\n",
    "accomplished by repeatedly running `train_step`."
   ]
  },
  {
   "cell_type": "code",
   "execution_count": null,
   "metadata": {},
   "outputs": [],
   "source": [
    "for i in range(1000):\n",
    "  batch = mnist.train.next_batch(50)\n",
    "  train_step.run(feed_dict={x: batch[0], y_: batch[1]})"
   ]
  },
  {
   "cell_type": "markdown",
   "metadata": {},
   "source": [
    "Each training iteration we load 50 training examples. We then run the\n",
    "`train_step` operation, using `feed_dict` to replace the `placeholder` tensors\n",
    "`x` and `y_` with the training examples.\n",
    "Note that you can replace any tensor in your computation graph using `feed_dict`\n",
    "-- it's not restricted to just `placeholder`s.\n",
    "\n",
    "### Evaluate the Model\n",
    "\n",
    "How well did our model do?\n",
    "\n",
    "First we'll figure out where we predicted the correct label. `tf.argmax`\n",
    "is an extremely useful function which gives you the index of the highest entry\n",
    "in a tensor along some axis. For example, `tf.argmax(y,1)` is the label our\n",
    "model thinks is most likely for each input, while `tf.argmax(y_,1)` is the\n",
    "true label. We can use `tf.equal` to check if our prediction matches the\n",
    "truth."
   ]
  },
  {
   "cell_type": "code",
   "execution_count": null,
   "metadata": {},
   "outputs": [],
   "source": [
    "correct_prediction = tf.equal(tf.argmax(y,1), tf.argmax(y_,1))"
   ]
  },
  {
   "cell_type": "markdown",
   "metadata": {},
   "source": [
    "That gives us a list of booleans. To determine what fraction are correct, we\n",
    "cast to floating point numbers and then take the mean. For example,\n",
    "`[True, False, True, True]` would become `[1,0,1,1]` which would become `0.75`."
   ]
  },
  {
   "cell_type": "code",
   "execution_count": null,
   "metadata": {},
   "outputs": [],
   "source": [
    "accuracy = tf.reduce_mean(tf.cast(correct_prediction, \"float\"))"
   ]
  },
  {
   "cell_type": "markdown",
   "metadata": {},
   "source": [
    "Finally, we can evaluate our accuracy on the test data. This should be about\n",
    "91% correct."
   ]
  },
  {
   "cell_type": "code",
   "execution_count": null,
   "metadata": {},
   "outputs": [],
   "source": [
    "print(accuracy.eval(feed_dict={x: mnist.test.images, y_: mnist.test.labels}))"
   ]
  },
  {
   "cell_type": "markdown",
   "metadata": {},
   "source": [
    "## Build a Multilayer Convolutional Network\n",
    "\n",
    "Getting 91% accuracy on MNIST is bad. It's almost embarrassingly bad. In this\n",
    "section, we'll fix that, jumping from a very simple model to something\n",
    "moderately sophisticated: a small convolutional neural network. This will get us\n",
    "to around 99.2% accuracy -- not state of the art, but respectable.\n",
    "\n",
    "### Weight Initialization\n",
    "\n",
    "To create this model, we're going to need to create a lot of weights and biases.\n",
    "One should generally initialize weights with a small amount of noise for\n",
    "symmetry breaking, and to prevent 0 gradients. Since we're using ReLU neurons,\n",
    "it is also good practice to initialize them with a slightly positive initial\n",
    "bias to avoid \"dead neurons.\" Instead of doing this repeatedly while we build\n",
    "the model, let's create two handy functions to do it for us."
   ]
  },
  {
   "cell_type": "code",
   "execution_count": null,
   "metadata": {},
   "outputs": [],
   "source": [
    "def weight_variable(shape):\n",
    "  initial = tf.truncated_normal(shape, stddev=0.1)\n",
    "  return tf.Variable(initial)\n",
    "\n",
    "def bias_variable(shape):\n",
    "  initial = tf.constant(0.1, shape=shape)\n",
    "  return tf.Variable(initial)"
   ]
  },
  {
   "cell_type": "markdown",
   "metadata": {},
   "source": [
    "### Convolution and Pooling\n",
    "\n",
    "TensorFlow also gives us a lot of flexibility in convolution and pooling\n",
    "operations. How do we handle the boundaries? What is our stride size?\n",
    "In this example, we're always going to choose the vanilla version.\n",
    "Our convolutions uses a stride of one and are zero padded so that the\n",
    "output is the same size as the input. Our pooling is plain old max pooling\n",
    "over 2x2 blocks. To keep our code cleaner, let's also abstract those operations\n",
    "into functions."
   ]
  },
  {
   "cell_type": "code",
   "execution_count": null,
   "metadata": {},
   "outputs": [],
   "source": [
    "def conv2d(x, W):\n",
    "  return tf.nn.conv2d(x, W, strides=[1, 1, 1, 1], padding='SAME')\n",
    "\n",
    "def max_pool_2x2(x):\n",
    "  return tf.nn.max_pool(x, ksize=[1, 2, 2, 1],\n",
    "                        strides=[1, 2, 2, 1], padding='SAME')"
   ]
  },
  {
   "cell_type": "markdown",
   "metadata": {},
   "source": [
    "### First Convolutional Layer\n",
    "\n",
    "We can now implement our first layer. It will consist of convolution, followed\n",
    "by max pooling. The convolutional will compute 32 features for each 5x5 patch.\n",
    "Its weight tensor will have a shape of `[5, 5, 1, 32]`. The first two\n",
    "dimensions are the patch size, the next is the number of input channels, and\n",
    "the last is the number of output channels. We will also have a bias vector with\n",
    "a component for each output channel."
   ]
  },
  {
   "cell_type": "code",
   "execution_count": null,
   "metadata": {},
   "outputs": [],
   "source": [
    "W_conv1 = weight_variable([5, 5, 1, 32])\n",
    "b_conv1 = bias_variable([32])"
   ]
  },
  {
   "cell_type": "markdown",
   "metadata": {},
   "source": [
    "To apply the layer, we first reshape `x` to a 4d tensor, with the second and\n",
    "third dimensions corresponding to image width and height, and the final\n",
    "dimension corresponding to the number of color channels."
   ]
  },
  {
   "cell_type": "code",
   "execution_count": null,
   "metadata": {},
   "outputs": [],
   "source": [
    "x_image = tf.reshape(x, [-1,28,28,1])"
   ]
  },
  {
   "cell_type": "markdown",
   "metadata": {},
   "source": [
    "We then convolve `x_image` with the weight tensor, add the\n",
    "bias, apply the ReLU function, and finally max pool."
   ]
  },
  {
   "cell_type": "code",
   "execution_count": null,
   "metadata": {},
   "outputs": [],
   "source": [
    "h_conv1 = tf.nn.relu(conv2d(x_image, W_conv1) + b_conv1)\n",
    "h_pool1 = max_pool_2x2(h_conv1)"
   ]
  },
  {
   "cell_type": "markdown",
   "metadata": {},
   "source": [
    "### Second Convolutional Layer\n",
    "\n",
    "In order to build a deep network, we stack several layers of this type. The\n",
    "second layer will have 64 features for each 5x5 patch."
   ]
  },
  {
   "cell_type": "code",
   "execution_count": null,
   "metadata": {},
   "outputs": [],
   "source": [
    "W_conv2 = weight_variable([5, 5, 32, 64])\n",
    "b_conv2 = bias_variable([64])\n",
    "\n",
    "h_conv2 = tf.nn.relu(conv2d(h_pool1, W_conv2) + b_conv2)\n",
    "h_pool2 = max_pool_2x2(h_conv2)"
   ]
  },
  {
   "cell_type": "markdown",
   "metadata": {},
   "source": [
    "### Densely Connected Layer\n",
    "\n",
    "Now that the image size has been reduced to 7x7, we add a fully-connected layer\n",
    "with 1024 neurons to allow processing on the entire image. We reshape the tensor\n",
    "from the pooling layer into a batch of vectors,\n",
    "multiply by a weight matrix, add a bias, and apply a ReLU."
   ]
  },
  {
   "cell_type": "code",
   "execution_count": null,
   "metadata": {},
   "outputs": [],
   "source": [
    "W_fc1 = weight_variable([7 * 7 * 64, 1024])\n",
    "b_fc1 = bias_variable([1024])\n",
    "\n",
    "h_pool2_flat = tf.reshape(h_pool2, [-1, 7*7*64])\n",
    "h_fc1 = tf.nn.relu(tf.matmul(h_pool2_flat, W_fc1) + b_fc1)"
   ]
  },
  {
   "cell_type": "markdown",
   "metadata": {},
   "source": [
    "#### Dropout\n",
    "\n",
    "To reduce overfitting, we will apply dropout before the readout layer.\n",
    "We create a `placeholder` for the probability that a neuron's output is kept\n",
    "during dropout. This allows us to turn dropout on during training, and turn it\n",
    "off during testing.\n",
    "TensorFlow's `tf.nn.dropout` op automatically handles scaling neuron outputs in\n",
    "addition to masking them, so dropout just works without any additional scaling."
   ]
  },
  {
   "cell_type": "code",
   "execution_count": null,
   "metadata": {},
   "outputs": [],
   "source": [
    "keep_prob = tf.placeholder(\"float\")\n",
    "h_fc1_drop = tf.nn.dropout(h_fc1, keep_prob)"
   ]
  },
  {
   "cell_type": "markdown",
   "metadata": {},
   "source": [
    "### Readout Layer\n",
    "\n",
    "Finally, we add a softmax layer, just like for the one layer softmax regression\n",
    "above."
   ]
  },
  {
   "cell_type": "code",
   "execution_count": null,
   "metadata": {},
   "outputs": [],
   "source": [
    "W_fc2 = weight_variable([1024, 10])\n",
    "b_fc2 = bias_variable([10])\n",
    "\n",
    "y_conv=tf.nn.softmax(tf.matmul(h_fc1_drop, W_fc2) + b_fc2)"
   ]
  },
  {
   "cell_type": "markdown",
   "metadata": {},
   "source": [
    "### Train and Evaluate the Model\n",
    "\n",
    "How well does this model do?\n",
    "To train and evaluate it we will use code that is nearly identical to that for\n",
    "the simple one layer SoftMax network above.\n",
    "The differences are that: we will replace the steepest gradient descent\n",
    "optimizer with the more sophisticated ADAM optimizer; we will include the\n",
    "additional parameter `keep_prob` in `feed_dict` to control the dropout rate;\n",
    "and we will add logging to every 100th iteration in the training process."
   ]
  },
  {
   "cell_type": "code",
   "execution_count": null,
   "metadata": {},
   "outputs": [],
   "source": [
    "cross_entropy = -tf.reduce_sum(y_*tf.log(y_conv))\n",
    "train_step = tf.train.AdamOptimizer(1e-4).minimize(cross_entropy)\n",
    "correct_prediction = tf.equal(tf.argmax(y_conv,1), tf.argmax(y_,1))\n",
    "accuracy = tf.reduce_mean(tf.cast(correct_prediction, \"float\"))\n",
    "sess.run(tf.initialize_all_variables())\n",
    "for i in range(20000):\n",
    "  batch = mnist.train.next_batch(50)\n",
    "  if i%100 == 0:\n",
    "    train_accuracy = accuracy.eval(feed_dict={\n",
    "        x:batch[0], y_: batch[1], keep_prob: 1.0})\n",
    "    print(\"step %d, training accuracy %g\"%(i, train_accuracy))\n",
    "  train_step.run(feed_dict={x: batch[0], y_: batch[1], keep_prob: 0.5})\n",
    "\n",
    "print(\"test accuracy %g\"%accuracy.eval(feed_dict={\n",
    "    x: mnist.test.images, y_: mnist.test.labels, keep_prob: 1.0}))"
   ]
  },
  {
   "cell_type": "markdown",
   "metadata": {},
   "source": [
    "The final test set accuracy after running this code should be approximately 99.2%.\n",
    "\n",
    "We have learned how to quickly and easily build, train, and evaluate a\n",
    "fairly sophisticated deep learning model using TensorFlow."
   ]
  }
 ],
 "metadata": {},
 "nbformat": 4,
 "nbformat_minor": 0
}
